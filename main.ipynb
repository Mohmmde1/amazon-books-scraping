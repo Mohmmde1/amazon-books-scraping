{
 "cells": [
  {
   "cell_type": "code",
   "execution_count": 3,
   "metadata": {},
   "outputs": [
    {
     "data": {
      "text/plain": [
       "<Response [200]>"
      ]
     },
     "execution_count": 3,
     "metadata": {},
     "output_type": "execute_result"
    }
   ],
   "source": [
    "from mechanicalsoup import Browser\n",
    "url = \"https://www.amazon.in/gp/bestsellers/books/\"\n",
    "browser = Browser()\n",
    "page = browser.get(url)\n",
    "page"
   ]
  },
  {
   "cell_type": "code",
   "execution_count": 4,
   "metadata": {},
   "outputs": [],
   "source": [
    "soup = page.soup\n"
   ]
  },
  {
   "cell_type": "code",
   "execution_count": 5,
   "metadata": {},
   "outputs": [],
   "source": [
    "div_tag = soup.find_all(\"div\", {\"class\": \"a-link-normal\"})\n"
   ]
  },
  {
   "cell_type": "code",
   "execution_count": 18,
   "metadata": {},
   "outputs": [
    {
     "data": {
      "text/plain": [
       "[]"
      ]
     },
     "execution_count": 18,
     "metadata": {},
     "output_type": "execute_result"
    }
   ],
   "source": [
    "books = {}\n",
    "# ranks\n",
    "# titles\n",
    "# prices\n",
    "# reviews\n",
    "# authors\n"
   ]
  },
  {
   "cell_type": "code",
   "execution_count": 6,
   "metadata": {},
   "outputs": [],
   "source": [
    "authors = []\n",
    "titles = []\n",
    "for index, div in enumerate(div_tag):\n",
    "    if not index%2:\n",
    "        author = div_tag[index+1].getText()\n",
    "        title = div.getText()\n",
    "        authors.append(author)\n",
    "        titles.append(titles)"
   ]
  },
  {
   "cell_type": "code",
   "execution_count": 7,
   "metadata": {},
   "outputs": [],
   "source": [
    "div_ranks = soup.findAll(\"div\", {\"class\" : \"a-section zg-bdg-body zg-bdg-clr-body aok-float-left\"})\n",
    "ranks = [rank.getText() for rank in div_ranks]"
   ]
  },
  {
   "cell_type": "code",
   "execution_count": 31,
   "metadata": {},
   "outputs": [],
   "source": [
    "span_prices = soup.findAll(\"span\", {\"class\" : \"_cDEzb_p13n-sc-price_3mJ9Z\"})\n",
    "prices = [price.getText() for price in span_prices]"
   ]
  },
  {
   "cell_type": "code",
   "execution_count": 16,
   "metadata": {},
   "outputs": [],
   "source": [
    "div_reviews = soup.find('div', {\"class\" : \"a-icon-row\"})\n",
    "div_reviews.find(\"span\").getText()"
   ]
  },
  {
   "cell_type": "code",
   "execution_count": 22,
   "metadata": {},
   "outputs": [],
   "source": [
    "span_reviews = soup.findAll(\"span\", {\"class\" : \"a-icon-alt\"})\n",
    "reviews = [review.getText() for review in span_reviews]"
   ]
  },
  {
   "cell_type": "code",
   "execution_count": 23,
   "metadata": {},
   "outputs": [
    {
     "data": {
      "text/plain": [
       "['4.6 out of 5 stars',\n",
       " '4.7 out of 5 stars',\n",
       " '4.6 out of 5 stars',\n",
       " '4.5 out of 5 stars',\n",
       " '4.5 out of 5 stars',\n",
       " '4.6 out of 5 stars',\n",
       " '4.6 out of 5 stars',\n",
       " '4.4 out of 5 stars',\n",
       " '4.4 out of 5 stars',\n",
       " '4.6 out of 5 stars',\n",
       " '4.6 out of 5 stars',\n",
       " '4.2 out of 5 stars',\n",
       " '4.5 out of 5 stars',\n",
       " '4.4 out of 5 stars',\n",
       " '4.5 out of 5 stars',\n",
       " '4.5 out of 5 stars',\n",
       " '4.4 out of 5 stars',\n",
       " '4.0 out of 5 stars',\n",
       " '4.4 out of 5 stars',\n",
       " '4.5 out of 5 stars',\n",
       " '4.5 out of 5 stars',\n",
       " '4.3 out of 5 stars',\n",
       " '4.4 out of 5 stars',\n",
       " '4.4 out of 5 stars',\n",
       " '4.5 out of 5 stars',\n",
       " '4.5 out of 5 stars',\n",
       " '4.6 out of 5 stars',\n",
       " '4.5 out of 5 stars',\n",
       " '4.5 out of 5 stars',\n",
       " '4.5 out of 5 stars',\n",
       " '4.6 out of 5 stars',\n",
       " '4.7 out of 5 stars',\n",
       " '4.5 out of 5 stars',\n",
       " '4.3 out of 5 stars',\n",
       " '4.7 out of 5 stars',\n",
       " '4.4 out of 5 stars',\n",
       " '4.3 out of 5 stars',\n",
       " '4.5 out of 5 stars',\n",
       " '4.8 out of 5 stars',\n",
       " '4.4 out of 5 stars',\n",
       " '4.3 out of 5 stars',\n",
       " '4.5 out of 5 stars',\n",
       " '4.5 out of 5 stars',\n",
       " '4.5 out of 5 stars',\n",
       " '4.3 out of 5 stars',\n",
       " '4.5 out of 5 stars',\n",
       " '4.5 out of 5 stars',\n",
       " '4.6 out of 5 stars',\n",
       " '4.4 out of 5 stars']"
      ]
     },
     "execution_count": 23,
     "metadata": {},
     "output_type": "execute_result"
    }
   ],
   "source": [
    "reviews"
   ]
  },
  {
   "cell_type": "code",
   "execution_count": null,
   "metadata": {},
   "outputs": [],
   "source": []
  }
 ],
 "metadata": {
  "kernelspec": {
   "display_name": "Python 3.9.6 64-bit",
   "language": "python",
   "name": "python3"
  },
  "language_info": {
   "codemirror_mode": {
    "name": "ipython",
    "version": 3
   },
   "file_extension": ".py",
   "mimetype": "text/x-python",
   "name": "python",
   "nbconvert_exporter": "python",
   "pygments_lexer": "ipython3",
   "version": "3.9.6"
  },
  "orig_nbformat": 4,
  "vscode": {
   "interpreter": {
    "hash": "aee8b7b246df8f9039afb4144a1f6fd8d2ca17a180786b69acc140d282b71a49"
   }
  }
 },
 "nbformat": 4,
 "nbformat_minor": 2
}
