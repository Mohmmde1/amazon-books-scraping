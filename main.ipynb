{
 "cells": [
  {
   "cell_type": "code",
   "execution_count": 39,
   "metadata": {},
   "outputs": [],
   "source": [
    "import re\n",
    "from urllib.request import urlopen\n",
    "\n",
    "url = \"http://olympus.realpython.org/profiles/dionysus\"\n",
    "page = urlopen(url)\n",
    "html = page.read().decode(\"utf-8\")\n",
    "\n",
    "pattern = \"<title.*?>.*?</title.*?>\""
   ]
  },
  {
   "cell_type": "code",
   "execution_count": 44,
   "metadata": {},
   "outputs": [
    {
     "name": "stdout",
     "output_type": "stream",
     "text": [
      "<h2>Name: Dionysus</h2>\n",
      "Name: Dionysus\n"
     ]
    }
   ],
   "source": [
    "pattern = \"<h2.*?>.*?</h2.*?>\"\n",
    "match_results = re.search(pattern, html, re.IGNORECASE)\n",
    "heading = match_results.group()\n",
    "pattern = \"<.*?h2.*?>\"\n",
    "print(heading)\n",
    "heading = re.sub(pattern, \"\", heading)\n",
    "print(heading)"
   ]
  },
  {
   "cell_type": "code",
   "execution_count": 29,
   "metadata": {},
   "outputs": [
    {
     "data": {
      "text/plain": [
       "'<html>\\n<head>\\n<TITLE >Profile: Dionysus</title  / >\\n</head>\\n<body bgcolor=\"yellow\">\\n<center>\\n<br><br>\\n<img src=\"/static/dionysus.jpg\" />\\n<h2>Name: Dionysus</h2>\\n<img src=\"/static/grapes.png\"><br><br>\\nHometown: Mount Olympus\\n<br><br>\\nFavorite animal: Leopard <br>\\n<br>\\nFavorite Color: Wine\\n</center>\\n</body>\\n</html>\\n'"
      ]
     },
     "execution_count": 29,
     "metadata": {},
     "output_type": "execute_result"
    }
   ],
   "source": [
    "html"
   ]
  },
  {
   "cell_type": "code",
   "execution_count": 18,
   "metadata": {},
   "outputs": [
    {
     "ename": "AttributeError",
     "evalue": "'NoneType' object has no attribute 'group'",
     "output_type": "error",
     "traceback": [
      "\u001b[0;31m---------------------------------------------------------------------------\u001b[0m",
      "\u001b[0;31mAttributeError\u001b[0m                            Traceback (most recent call last)",
      "\u001b[0;32m/var/folders/hk/6378r6kn485c937c46zgdhy80000gn/T/ipykernel_4409/3354214016.py\u001b[0m in \u001b[0;36m<module>\u001b[0;34m\u001b[0m\n\u001b[1;32m      1\u001b[0m \u001b[0mmatch_results\u001b[0m \u001b[0;34m=\u001b[0m \u001b[0mre\u001b[0m\u001b[0;34m.\u001b[0m\u001b[0msearch\u001b[0m\u001b[0;34m(\u001b[0m\u001b[0mpattern\u001b[0m\u001b[0;34m,\u001b[0m \u001b[0mhtml\u001b[0m\u001b[0;34m,\u001b[0m \u001b[0mre\u001b[0m\u001b[0;34m.\u001b[0m\u001b[0mIGNORECASE\u001b[0m\u001b[0;34m)\u001b[0m\u001b[0;34m\u001b[0m\u001b[0;34m\u001b[0m\u001b[0m\n\u001b[0;32m----> 2\u001b[0;31m \u001b[0mtitle\u001b[0m \u001b[0;34m=\u001b[0m \u001b[0mmatch_results\u001b[0m\u001b[0;34m.\u001b[0m\u001b[0mgroup\u001b[0m\u001b[0;34m(\u001b[0m\u001b[0;34m)\u001b[0m\u001b[0;34m\u001b[0m\u001b[0;34m\u001b[0m\u001b[0m\n\u001b[0m\u001b[1;32m      3\u001b[0m \u001b[0;31m# title = re.sub(\"<.*?>\", \"\", title) # Remove HTML tags\u001b[0m\u001b[0;34m\u001b[0m\u001b[0;34m\u001b[0m\u001b[0;34m\u001b[0m\u001b[0m\n\u001b[1;32m      4\u001b[0m \u001b[0;34m\u001b[0m\u001b[0m\n\u001b[1;32m      5\u001b[0m \u001b[0mprint\u001b[0m\u001b[0;34m(\u001b[0m\u001b[0mtitle\u001b[0m\u001b[0;34m)\u001b[0m\u001b[0;34m\u001b[0m\u001b[0;34m\u001b[0m\u001b[0m\n",
      "\u001b[0;31mAttributeError\u001b[0m: 'NoneType' object has no attribute 'group'"
     ]
    }
   ],
   "source": [
    "match_results = re.search(pattern, html, re.IGNORECASE)\n",
    "title = match_results.group()\n",
    "# title = re.sub(\"<.*?>\", \"\", title) # Remove HTML tags\n",
    "\n",
    "print(title)"
   ]
  },
  {
   "cell_type": "code",
   "execution_count": 12,
   "metadata": {},
   "outputs": [
    {
     "data": {
      "text/plain": [
       "'<TITLE >Profile: Dionysus</title  / >'"
      ]
     },
     "execution_count": 12,
     "metadata": {},
     "output_type": "execute_result"
    }
   ],
   "source": [
    "title"
   ]
  },
  {
   "cell_type": "code",
   "execution_count": 45,
   "metadata": {},
   "outputs": [],
   "source": [
    "url = \"http://olympus.realpython.org/profiles/dionysus\"\n",
    "page = urlopen(url)\n",
    "html = page.read().decode(\"utf-8\")\n"
   ]
  },
  {
   "cell_type": "code",
   "execution_count": 46,
   "metadata": {},
   "outputs": [
    {
     "data": {
      "text/plain": [
       "'<html>\\n<head>\\n<TITLE >Profile: Dionysus</title  / >\\n</head>\\n<body bgcolor=\"yellow\">\\n<center>\\n<br><br>\\n<img src=\"/static/dionysus.jpg\" />\\n<h2>Name: Dionysus</h2>\\n<img src=\"/static/grapes.png\"><br><br>\\nHometown: Mount Olympus\\n<br><br>\\nFavorite animal: Leopard <br>\\n<br>\\nFavorite Color: Wine\\n</center>\\n</body>\\n</html>\\n'"
      ]
     },
     "execution_count": 46,
     "metadata": {},
     "output_type": "execute_result"
    }
   ],
   "source": [
    "html"
   ]
  },
  {
   "cell_type": "code",
   "execution_count": 51,
   "metadata": {},
   "outputs": [
    {
     "data": {
      "text/plain": [
       "'Name: Dionysus'"
      ]
     },
     "execution_count": 51,
     "metadata": {},
     "output_type": "execute_result"
    }
   ],
   "source": [
    "pattern = \"<.*?h2>.*?<.*?/.*?h2.*?>\"\n",
    "match_obj = re.search(pattern, html, re.IGNORECASE)\n",
    "html = match_obj.group()\n",
    "name = re.sub(\"<.*?h2.*?>\", \"\", html)\n",
    "name"
   ]
  },
  {
   "cell_type": "code",
   "execution_count": 48,
   "metadata": {},
   "outputs": [
    {
     "data": {
      "text/plain": [
       "str"
      ]
     },
     "execution_count": 48,
     "metadata": {},
     "output_type": "execute_result"
    }
   ],
   "source": [
    "pattern = \"<.*?h2>.*?<.*?/.*?h2.*?>\"\n",
    "match_obj = re.search(pattern, html, re.IGNORECASE)\n",
    "html = match_obj.group()\n",
    "name = re.sub(\"<.*?h2.*?>\", \"\", html)\n",
    "name"
   ]
  },
  {
   "cell_type": "code",
   "execution_count": 64,
   "metadata": {},
   "outputs": [
    {
     "data": {
      "text/plain": [
       "'<html>\\n<head>\\n<TITLE >Profile: Dionysus</title  / >\\n</head>\\n<body bgcolor=\"yellow\">\\n<center>\\n<br><br>\\n<img src=\"/static/dionysus.jpg\" />\\n<h2>Name: Dionysus</h2>\\n<img src=\"/static/grapes.png\"><br><br>\\nHometown: Mount Olympus\\n<br><br>\\nFavorite animal: Leopard <br>\\n<br>\\nFavorite Color: Wine\\n</center>\\n</body>\\n</html>\\n'"
      ]
     },
     "execution_count": 64,
     "metadata": {},
     "output_type": "execute_result"
    }
   ],
   "source": [
    "def find(pattern, txt, sub_pattren):\n",
    "    match_obj = re.search(pattern, txt)\n",
    "    try:\n",
    "        txt = match_obj.group()\n",
    "    except(AttributeError):\n",
    "        print(\"Txt is empty\")\n",
    "    name = re.sub(sub_pattren, \"\", txt)\n",
    "    return name\n",
    "html"
   ]
  },
  {
   "cell_type": "code",
   "execution_count": 63,
   "metadata": {},
   "outputs": [],
   "source": [
    "pattern = \"\\nF.*?e\\n\"\n",
    "sub_pattern = \"\\n\"\n",
    "page = urlopen(url)\n",
    "html = page.read().decode(\"utf-8\")\n",
    "fav_color = find(pattern, html, sub_pattern)"
   ]
  },
  {
   "cell_type": "code",
   "execution_count": 65,
   "metadata": {},
   "outputs": [
    {
     "data": {
      "text/plain": [
       "'Favorite Color: Wine'"
      ]
     },
     "execution_count": 65,
     "metadata": {},
     "output_type": "execute_result"
    }
   ],
   "source": [
    "fav_color"
   ]
  },
  {
   "cell_type": "code",
   "execution_count": 66,
   "metadata": {},
   "outputs": [
    {
     "name": "stdout",
     "output_type": "stream",
     "text": [
      "Name: Dionysus\n",
      "Favorite Color: Wine\n"
     ]
    }
   ],
   "source": [
    "print(name)\n",
    "print(fav_color)"
   ]
  },
  {
   "cell_type": "code",
   "execution_count": 67,
   "metadata": {},
   "outputs": [],
   "source": [
    "from bs4 import BeautifulSoup\n",
    "from urllib.request import urlopen\n",
    "\n",
    "url = \"http://olympus.realpython.org/profiles/dionysus\"\n",
    "page = urlopen(url)\n",
    "html = page.read().decode(\"utf-8\")\n",
    "soup = BeautifulSoup(html, \"html.parser\")"
   ]
  },
  {
   "cell_type": "code",
   "execution_count": 68,
   "metadata": {},
   "outputs": [
    {
     "data": {
      "text/plain": [
       "<html>\n",
       "<head>\n",
       "<title>Profile: Dionysus</title>\n",
       "</head>\n",
       "<body bgcolor=\"yellow\">\n",
       "<center>\n",
       "<br/><br/>\n",
       "<img src=\"/static/dionysus.jpg\"/>\n",
       "<h2>Name: Dionysus</h2>\n",
       "<img src=\"/static/grapes.png\"/><br/><br/>\n",
       "Hometown: Mount Olympus\n",
       "<br/><br/>\n",
       "Favorite animal: Leopard <br/>\n",
       "<br/>\n",
       "Favorite Color: Wine\n",
       "</center>\n",
       "</body>\n",
       "</html>"
      ]
     },
     "execution_count": 68,
     "metadata": {},
     "output_type": "execute_result"
    }
   ],
   "source": [
    "soup"
   ]
  },
  {
   "cell_type": "code",
   "execution_count": 69,
   "metadata": {},
   "outputs": [
    {
     "data": {
      "text/plain": [
       "bs4.BeautifulSoup"
      ]
     },
     "execution_count": 69,
     "metadata": {},
     "output_type": "execute_result"
    }
   ],
   "source": [
    "type(soup)"
   ]
  },
  {
   "cell_type": "code",
   "execution_count": 70,
   "metadata": {},
   "outputs": [
    {
     "data": {
      "text/plain": [
       "'\\n\\nProfile: Dionysus\\n\\n\\n\\n\\n\\nName: Dionysus\\n\\nHometown: Mount Olympus\\n\\nFavorite animal: Leopard \\n\\nFavorite Color: Wine\\n\\n\\n\\n'"
      ]
     },
     "execution_count": 70,
     "metadata": {},
     "output_type": "execute_result"
    }
   ],
   "source": [
    "soup.get_text()"
   ]
  },
  {
   "cell_type": "code",
   "execution_count": 71,
   "metadata": {},
   "outputs": [
    {
     "name": "stdout",
     "output_type": "stream",
     "text": [
      "\n",
      "\n",
      "Profile: Dionysus\n",
      "\n",
      "\n",
      "\n",
      "\n",
      "\n",
      "Name: Dionysus\n",
      "\n",
      "Hometown: Mount Olympus\n",
      "\n",
      "Favorite animal: Leopard \n",
      "\n",
      "Favorite Color: Wine\n",
      "\n",
      "\n",
      "\n",
      "\n"
     ]
    }
   ],
   "source": [
    "print(soup.get_text())"
   ]
  },
  {
   "cell_type": "code",
   "execution_count": 73,
   "metadata": {},
   "outputs": [],
   "source": [
    "from bs4 import BeautifulSoup\n",
    "from urllib.request import urlopen\n",
    "\n",
    "url = \"https://codeforces.com/contests\"\n",
    "page = urlopen(url)\n",
    "html = page.read().decode(\"utf-8\")\n",
    "soup = BeautifulSoup(html, \"html.parser\")"
   ]
  },
  {
   "cell_type": "code",
   "execution_count": 75,
   "metadata": {},
   "outputs": [
    {
     "name": "stdout",
     "output_type": "stream",
     "text": [
      "        1516→Create by exampleEnglish name   Russian name   Start time  Use the following format: yyyy‑MM‑dd HH:mm, MSK (UTC+3) Codeforces (c) Copyright 2010-2022 Mike MirzayanovThe only programming contests Web 2.0 platformServer time: Jul/05/2022 14:20:05 (j3).Desktop version, switch to mobile version.Privacy Policy                        Supported by                                        User lists                  Name\n"
     ]
    }
   ],
   "source": [
    "print(soup.get_text().replace(\"\\n\", \"\"))"
   ]
  },
  {
   "cell_type": "code",
   "execution_count": 81,
   "metadata": {},
   "outputs": [
    {
     "data": {
      "text/plain": [
       "[]"
      ]
     },
     "execution_count": 81,
     "metadata": {},
     "output_type": "execute_result"
    }
   ],
   "source": [
    "soup.find_all(\"h\")"
   ]
  },
  {
   "cell_type": "code",
   "execution_count": 82,
   "metadata": {},
   "outputs": [
    {
     "data": {
      "text/plain": [
       "<title>Contests - Codeforces</title>"
      ]
     },
     "execution_count": 82,
     "metadata": {},
     "output_type": "execute_result"
    }
   ],
   "source": [
    "soup.title"
   ]
  },
  {
   "cell_type": "code",
   "execution_count": 83,
   "metadata": {},
   "outputs": [
    {
     "data": {
      "text/plain": [
       "<head>\n",
       "<meta content=\"text/html; charset=utf-8\" http-equiv=\"content-type\"/>\n",
       "<meta content=\"bbfa479e0c8ac765b1075c80f8d9c899\" name=\"X-Csrf-Token\">\n",
       "<meta content=\"width=device-width, initial-scale=0.01\" id=\"viewport\" name=\"viewport\"/>\n",
       "<script src=\"//cdn.codeforces.com/s/0/js/jquery-1.8.3.js\" type=\"text/javascript\"></script>\n",
       "<script type=\"application/javascript\">\n",
       "        window.standaloneContest = false;\n",
       "        function adjustViewport() {\n",
       "            var screenWidthPx = Math.min($(window).width(), window.screen.width);\n",
       "            var siteWidthPx = 1100; // min width of site\n",
       "            var ratio = Math.min(screenWidthPx / siteWidthPx, 1.0);\n",
       "            var viewport = \"width=device-width, initial-scale=\" + ratio;\n",
       "            $('#viewport').attr('content', viewport);\n",
       "            var style = $('<style>html * { max-height: 1000000px; }</style>');\n",
       "            $('html > head').append(style);\n",
       "        }\n",
       "\n",
       "        if ( /Android|webOS|iPhone|iPad|iPod|BlackBerry/i.test(navigator.userAgent) ) {\n",
       "            adjustViewport();\n",
       "        }\n",
       "\n",
       "        /* Protection against trailing dot in domain. */\n",
       "        let hostLength = window.location.host.length;\n",
       "        if (hostLength > 1 && window.location.host[hostLength - 1] === '.') {\n",
       "            window.location = window.location.protocol + \"//\" + window.location.host.substring(0, hostLength - 1);\n",
       "        }\n",
       "    </script>\n",
       "<meta content=\"no-cache\" http-equiv=\"pragma\"/>\n",
       "<meta content=\"-1\" http-equiv=\"expires\"/>\n",
       "<meta content=\"j3\" http-equiv=\"profileName\"/>\n",
       "<meta content=\"OTd2dN5x4nS4OPknPI9JFg36fKxjqY0i1PSfFPv_J90\" name=\"google-site-verification\">\n",
       "<meta content=\"100001352546622\" property=\"fb:admins\">\n",
       "<meta content=\"//cdn.codeforces.com/s/0/images/codeforces-telegram-square.png\" property=\"og:image\">\n",
       "<link href=\"//cdn.codeforces.com/s/0/images/codeforces-telegram-square.png\" rel=\"image_src\"/>\n",
       "<meta content=\"Contests - Codeforces\" property=\"og:title\"/>\n",
       "<meta content=\"\" property=\"og:description\"/>\n",
       "<meta content=\"Codeforces\" property=\"og:site_name\"/>\n",
       "<meta content=\"+03:00\" name=\"utc_offset\"/>\n",
       "<meta content=\"f56f99fd7e087fb6ccb48ef2\" name=\"verify-reformal\"/>\n",
       "<title>Contests - Codeforces</title>\n",
       "<meta content=\"Codeforces. Programming competitions and contests, programming community\" name=\"description\"/>\n",
       "<meta content=\"programming algorithm contest competition informatics olympiads c++ java graphs vkcup\" name=\"keywords\"/>\n",
       "<meta content=\"index, follow\" name=\"robots\"/>\n",
       "<link charset=\"utf-8\" href=\"//cdn.codeforces.com/s/42322/css/font-awesome.min.css\" rel=\"stylesheet\" type=\"text/css\"/>\n",
       "<link charset=\"utf-8\" href=\"//cdn.codeforces.com/s/42322/css/line-awesome.min.css\" rel=\"stylesheet\" type=\"text/css\"/>\n",
       "<link href=\"//fonts.googleapis.com/css?family=PT+Sans+Narrow:400,700&amp;subset=latin,cyrillic\" rel=\"stylesheet\" type=\"text/css\"/>\n",
       "<link href=\"//fonts.googleapis.com/css?family=Cuprum&amp;subset=latin,cyrillic\" rel=\"stylesheet\" type=\"text/css\"/>\n",
       "<link href=\"//cdn.codeforces.com/s/0/apple-icon-57x57.png\" rel=\"apple-touch-icon\" sizes=\"57x57\"/>\n",
       "<link href=\"//cdn.codeforces.com/s/0/apple-icon-60x60.png\" rel=\"apple-touch-icon\" sizes=\"60x60\"/>\n",
       "<link href=\"//cdn.codeforces.com/s/0/apple-icon-72x72.png\" rel=\"apple-touch-icon\" sizes=\"72x72\"/>\n",
       "<link href=\"//cdn.codeforces.com/s/0/apple-icon-76x76.png\" rel=\"apple-touch-icon\" sizes=\"76x76\"/>\n",
       "<link href=\"//cdn.codeforces.com/s/0/apple-icon-114x114.png\" rel=\"apple-touch-icon\" sizes=\"114x114\"/>\n",
       "<link href=\"//cdn.codeforces.com/s/0/apple-icon-120x120.png\" rel=\"apple-touch-icon\" sizes=\"120x120\"/>\n",
       "<link href=\"//cdn.codeforces.com/s/0/apple-icon-144x144.png\" rel=\"apple-touch-icon\" sizes=\"144x144\"/>\n",
       "<link href=\"//cdn.codeforces.com/s/0/apple-icon-152x152.png\" rel=\"apple-touch-icon\" sizes=\"152x152\"/>\n",
       "<link href=\"//cdn.codeforces.com/s/0/apple-icon-180x180.png\" rel=\"apple-touch-icon\" sizes=\"180x180\"/>\n",
       "<link href=\"//cdn.codeforces.com/s/0/android-icon-192x192.png\" rel=\"icon\" sizes=\"192x192\" type=\"image/png\"/>\n",
       "<link href=\"//cdn.codeforces.com/s/0/favicon-32x32.png\" rel=\"icon\" sizes=\"32x32\" type=\"image/png\"/>\n",
       "<link href=\"//cdn.codeforces.com/s/0/favicon-96x96.png\" rel=\"icon\" sizes=\"96x96\" type=\"image/png\"/>\n",
       "<link href=\"//cdn.codeforces.com/s/0/favicon-16x16.png\" rel=\"icon\" sizes=\"16x16\" type=\"image/png\"/>\n",
       "<link href=\"/manifest.json\" rel=\"manifest\"/>\n",
       "<meta content=\"#ffffff\" name=\"msapplication-TileColor\"/>\n",
       "<meta content=\"//cdn.codeforces.com/s/0/ms-icon-144x144.png\" name=\"msapplication-TileImage\"/>\n",
       "<meta content=\"#ffffff\" name=\"theme-color\"/>\n",
       "<!--CombineResourcesFilter-->\n",
       "<link charset=\"utf-8\" href=\"//cdn.codeforces.com/s/42322/css/prettify.css\" rel=\"stylesheet\" type=\"text/css\">\n",
       "<link charset=\"utf-8\" href=\"//cdn.codeforces.com/s/42322/css/clear.css\" rel=\"stylesheet\" type=\"text/css\">\n",
       "<link charset=\"utf-8\" href=\"//cdn.codeforces.com/s/42322/css/style.css\" rel=\"stylesheet\" type=\"text/css\">\n",
       "<link charset=\"utf-8\" href=\"//cdn.codeforces.com/s/42322/css/ttypography.css\" rel=\"stylesheet\" type=\"text/css\">\n",
       "<link charset=\"utf-8\" href=\"//cdn.codeforces.com/s/42322/css/problem-statement.css\" rel=\"stylesheet\" type=\"text/css\">\n",
       "<link charset=\"utf-8\" href=\"//cdn.codeforces.com/s/42322/css/second-level-menu.css\" rel=\"stylesheet\" type=\"text/css\">\n",
       "<link charset=\"utf-8\" href=\"//cdn.codeforces.com/s/42322/css/roundbox.css\" rel=\"stylesheet\" type=\"text/css\">\n",
       "<link charset=\"utf-8\" href=\"//cdn.codeforces.com/s/42322/css/datatable.css\" rel=\"stylesheet\" type=\"text/css\">\n",
       "<link charset=\"utf-8\" href=\"//cdn.codeforces.com/s/42322/css/table-form.css\" rel=\"stylesheet\" type=\"text/css\">\n",
       "<link charset=\"utf-8\" href=\"//cdn.codeforces.com/s/42322/css/topic.css\" rel=\"stylesheet\" type=\"text/css\">\n",
       "<link charset=\"utf-8\" href=\"//cdn.codeforces.com/s/42322/css/jquery.jgrowl.css\" rel=\"stylesheet\" type=\"text/css\">\n",
       "<link charset=\"utf-8\" href=\"//cdn.codeforces.com/s/42322/css/facebox.css\" rel=\"stylesheet\" type=\"text/css\">\n",
       "<link charset=\"utf-8\" href=\"//cdn.codeforces.com/s/42322/css/jquery.wysiwyg.css\" rel=\"stylesheet\" type=\"text/css\">\n",
       "<link charset=\"utf-8\" href=\"//cdn.codeforces.com/s/42322/css/jquery.autocomplete.css\" rel=\"stylesheet\" type=\"text/css\">\n",
       "<link charset=\"utf-8\" href=\"//cdn.codeforces.com/s/42322/css/codeforces.datepick.css\" rel=\"stylesheet\" type=\"text/css\">\n",
       "<link charset=\"utf-8\" href=\"//cdn.codeforces.com/s/42322/css/colorbox.css\" rel=\"stylesheet\" type=\"text/css\">\n",
       "<link charset=\"utf-8\" href=\"//cdn.codeforces.com/s/42322/css/jquery.drafts.css\" rel=\"stylesheet\" type=\"text/css\"/>\n",
       "<link charset=\"utf-8\" href=\"//cdn.codeforces.com/s/42322/css/community.css\" rel=\"stylesheet\" type=\"text/css\"/>\n",
       "<!-- MathJax -->\n",
       "<script type=\"text/x-mathjax-config\">\n",
       "    MathJax.Hub.Config({\n",
       "      tex2jax: {inlineMath: [['$$$','$$$']], displayMath: [['$$$$$$','$$$$$$']]}\n",
       "    });\n",
       "    MathJax.Hub.Register.StartupHook(\"End\", function () {\n",
       "        Codeforces.runMathJaxListeners();\n",
       "    });\n",
       "    </script>\n",
       "<script async=\"\" src=\"https://cdn-mathjax.codeforces.com/MathJax.js?config=TeX-AMS_HTML-full\" type=\"text/javascript\">\n",
       "</script>\n",
       "<!-- /MathJax -->\n",
       "<script src=\"//cdn.codeforces.com/s/42322/js/prettify/prettify.js\" type=\"text/javascript\"></script>\n",
       "<script src=\"//cdn.codeforces.com/s/42322/js/moment-with-locales.min.js\" type=\"text/javascript\"></script>\n",
       "<script src=\"//cdn.codeforces.com/s/42322/js/pushstream.js\" type=\"text/javascript\"></script>\n",
       "<script src=\"//cdn.codeforces.com/s/42322/js/jquery.easing.min.js\" type=\"text/javascript\"></script>\n",
       "<script src=\"//cdn.codeforces.com/s/42322/js/jquery.lavalamp.min.js\" type=\"text/javascript\"></script>\n",
       "<script src=\"//cdn.codeforces.com/s/42322/js/jquery.jgrowl.js\" type=\"text/javascript\"></script>\n",
       "<script src=\"//cdn.codeforces.com/s/42322/js/jquery.swipe.js\" type=\"text/javascript\"></script>\n",
       "<script src=\"//cdn.codeforces.com/s/42322/js/jquery.hotkeys.js\" type=\"text/javascript\"></script>\n",
       "<script src=\"//cdn.codeforces.com/s/42322/js/facebox.js\" type=\"text/javascript\"></script>\n",
       "<script src=\"//cdn.codeforces.com/s/42322/js/jquery.wysiwyg.js\" type=\"text/javascript\"></script>\n",
       "<script src=\"//cdn.codeforces.com/s/42322/js/controls/wysiwyg.colorpicker.js\" type=\"text/javascript\"></script>\n",
       "<script src=\"//cdn.codeforces.com/s/42322/js/controls/wysiwyg.table.js\" type=\"text/javascript\"></script>\n",
       "<script src=\"//cdn.codeforces.com/s/42322/js/controls/wysiwyg.image.js\" type=\"text/javascript\"></script>\n",
       "<script src=\"//cdn.codeforces.com/s/42322/js/controls/wysiwyg.link.js\" type=\"text/javascript\"></script>\n",
       "<script src=\"//cdn.codeforces.com/s/42322/js/jquery.autocomplete.js\" type=\"text/javascript\"></script>\n",
       "<script src=\"//cdn.codeforces.com/s/42322/js/ua-parser.js\" type=\"text/javascript\"></script>\n",
       "<script src=\"//cdn.codeforces.com/s/42322/js/jquery.datepick.js\" type=\"text/javascript\"></script>\n",
       "<script src=\"//cdn.codeforces.com/s/42322/js/jquery.ie6blocker.js\" type=\"text/javascript\"></script>\n",
       "<script src=\"//cdn.codeforces.com/s/42322/js/jquery.colorbox-min.js\" type=\"text/javascript\"></script>\n",
       "<script src=\"//cdn.codeforces.com/s/42322/js/jquery.ba-bbq.js\" type=\"text/javascript\"></script>\n",
       "<script src=\"//cdn.codeforces.com/s/42322/js/jquery.drafts.js\" type=\"text/javascript\"></script>\n",
       "<script src=\"//cdn.codeforces.com/s/42322/js/clipboard.min.js\" type=\"text/javascript\"></script>\n",
       "<script src=\"//cdn.codeforces.com/s/42322/js/autosize.min.js\" type=\"text/javascript\"></script>\n",
       "<script src=\"//cdn.codeforces.com/s/42322/js/sjcl.js\" type=\"text/javascript\"></script>\n",
       "<script src=\"/scripts/193124e58acb85d7d5d0151abe6b3217/en/codeforces-options.js\" type=\"text/javascript\"></script>\n",
       "<script src=\"//cdn.codeforces.com/s/42322/js/codeforces.js?v=20160131\" type=\"text/javascript\"></script>\n",
       "<script src=\"//cdn.codeforces.com/s/42322/js/EventCatcher.js?v=20160131\" type=\"text/javascript\"></script>\n",
       "<script src=\"//cdn.codeforces.com/s/42322/js/preparedVerdictFormats-en.js\" type=\"text/javascript\"></script>\n",
       "<!--/CombineResourcesFilter-->\n",
       "<link charset=\"utf-8\" href=\"//cdn.codeforces.com/s/42322/markitup/skins/markitup/style.css\" rel=\"stylesheet\" type=\"text/css\"/>\n",
       "<link charset=\"utf-8\" href=\"//cdn.codeforces.com/s/42322/markitup/sets/markdown/style.css\" rel=\"stylesheet\" type=\"text/css\"/>\n",
       "<script src=\"//cdn.codeforces.com/s/42322/markitup/jquery.markitup.js\" type=\"text/javascript\"></script>\n",
       "<script src=\"//cdn.codeforces.com/s/42322/markitup/sets/markdown/set.js\" type=\"text/javascript\"></script>\n",
       "<!--[if IE]>\n",
       "    <style>\n",
       "        #sidebar {\n",
       "            padding-left: 1em;\n",
       "            margin: 1em 1em 1em 0;\n",
       "        }\n",
       "    </style>\n",
       "    <![endif]-->\n",
       "</link></link></link></link></link></link></link></link></link></link></link></link></link></link></link></link></meta></meta></meta></meta></head>"
      ]
     },
     "execution_count": 83,
     "metadata": {},
     "output_type": "execute_result"
    }
   ],
   "source": [
    "soup.head"
   ]
  },
  {
   "cell_type": "code",
   "execution_count": 91,
   "metadata": {},
   "outputs": [],
   "source": [
    "url = \"http://codeforces.com\"\n",
    "page = urlopen(url)\n",
    "html = page.read().decode(\"utf-8\")\n",
    "soub = BeautifulSoup(html, \"html.parser\")"
   ]
  },
  {
   "cell_type": "code",
   "execution_count": 92,
   "metadata": {},
   "outputs": [
    {
     "data": {
      "text/plain": [
       "[<a href=\"/\"><img alt=\"Codeforces\" src=\"//cdn.codeforces.com/s/65287/images/codeforces-logo-with-telegram.png\" title=\"Codeforces\"/></a>,\n",
       " <a href=\"?locale=en\"><img alt=\"In English\" src=\"//cdn.codeforces.com/s/65287/images/flags/24/gb.png\" title=\"In English\"/></a>,\n",
       " <a href=\"?locale=ru\"><img alt=\"По-русски\" src=\"//cdn.codeforces.com/s/65287/images/flags/24/ru.png\" title=\"По-русски\"/></a>,\n",
       " <a href=\"/enter?back=%2F\">Enter</a>,\n",
       " <a href=\"/register\">Register</a>,\n",
       " <a href=\"/\">Home</a>,\n",
       " <a href=\"/top\">Top</a>,\n",
       " <a href=\"/catalog\">Catalog</a>,\n",
       " <a href=\"/contests\">Contests</a>,\n",
       " <a href=\"/gyms\">Gym</a>,\n",
       " <a href=\"/problemset\">Problemset</a>,\n",
       " <a href=\"/groups\">Groups</a>,\n",
       " <a href=\"/ratings\">Rating</a>,\n",
       " <a href=\"/edu/courses\"><span class=\"edu-menu-item\">Edu</span></a>,\n",
       " <a href=\"/apiHelp\">API</a>,\n",
       " <a href=\"/calendar\">Calendar</a>,\n",
       " <a href=\"/help\">Help</a>,\n",
       " <a href=\"/contests/1701\">Educational Codeforces Round 131 (Rated for Div. 2)</a>,\n",
       " <a class=\"rated-user user-legendary\" href=\"/profile/tourist\" title=\"Legendary Grandmaster tourist\"><span class=\"legendary-user-first-letter\">t</span>ourist</a>,\n",
       " <a class=\"rated-user user-legendary\" href=\"/profile/jiangly\" title=\"Legendary Grandmaster jiangly\"><span class=\"legendary-user-first-letter\">j</span>iangly</a>,\n",
       " <a class=\"rated-user user-legendary\" href=\"/profile/Um_nik\" title=\"Legendary Grandmaster Um_nik\"><span class=\"legendary-user-first-letter\">U</span>m_nik</a>,\n",
       " <a class=\"rated-user user-legendary\" href=\"/profile/Benq\" title=\"Legendary Grandmaster Benq\"><span class=\"legendary-user-first-letter\">B</span>enq</a>,\n",
       " <a class=\"rated-user user-legendary\" href=\"/profile/ksun48\" title=\"Legendary Grandmaster ksun48\"><span class=\"legendary-user-first-letter\">k</span>sun48</a>,\n",
       " <a class=\"rated-user user-legendary\" href=\"/profile/MiracleFaFa\" title=\"Legendary Grandmaster MiracleFaFa\"><span class=\"legendary-user-first-letter\">M</span>iracleFaFa</a>,\n",
       " <a class=\"rated-user user-legendary\" href=\"/profile/slime\" title=\"Legendary Grandmaster slime\"><span class=\"legendary-user-first-letter\">s</span>lime</a>,\n",
       " <a class=\"rated-user user-legendary\" href=\"/profile/maroonrk\" title=\"Legendary Grandmaster maroonrk\"><span class=\"legendary-user-first-letter\">m</span>aroonrk</a>,\n",
       " <a class=\"rated-user user-legendary\" href=\"/profile/Radewoosh\" title=\"Legendary Grandmaster Radewoosh\"><span class=\"legendary-user-first-letter\">R</span>adewoosh</a>,\n",
       " <a class=\"rated-user user-legendary\" href=\"/profile/greenheadstrange\" title=\"Legendary Grandmaster greenheadstrange\"><span class=\"legendary-user-first-letter\">g</span>reenheadstrange</a>,\n",
       " <a href=\"/ratings/countries\">Countries</a>,\n",
       " <a href=\"/ratings/cities\">Cities</a>,\n",
       " <a href=\"/ratings/organizations\">Organizations</a>,\n",
       " <a href=\"/ratings\">View all →</a>,\n",
       " <a class=\"rated-user user-red\" href=\"/profile/awoo\" title=\"Grandmaster awoo\">awoo</a>,\n",
       " <a class=\"rated-user user-orange\" href=\"/profile/YouKn0wWho\" title=\"Master YouKn0wWho\">YouKn0wWho</a>,\n",
       " <a class=\"rated-user user-red\" href=\"/profile/-is-this-fft-\" title=\"Grandmaster -is-this-fft-\">-is-this-fft-</a>,\n",
       " <a class=\"rated-user user-legendary\" href=\"/profile/Um_nik\" title=\"Legendary Grandmaster Um_nik\"><span class=\"legendary-user-first-letter\">U</span>m_nik</a>,\n",
       " <a class=\"rated-user user-red\" href=\"/profile/Monogon\" title=\"Grandmaster Monogon\">Monogon</a>,\n",
       " <a class=\"rated-user user-red\" href=\"/profile/antontrygubO_o\" title=\"International Grandmaster antontrygubO_o\">antontrygubO_o</a>,\n",
       " <a class=\"rated-user user-legendary\" href=\"/profile/maroonrk\" title=\"Legendary Grandmaster maroonrk\"><span class=\"legendary-user-first-letter\">m</span>aroonrk</a>,\n",
       " <a class=\"rated-user user-orange\" href=\"/profile/adamant\" title=\"Master adamant\">adamant</a>,\n",
       " <a class=\"rated-user user-red\" href=\"/profile/SecondThread\" title=\"Grandmaster SecondThread\">SecondThread</a>,\n",
       " <a class=\"rated-user user-blue\" href=\"/profile/SlavicG\" title=\"Expert SlavicG\">SlavicG</a>,\n",
       " <a href=\"/top-contributed\">View all →</a>,\n",
       " <a class=\"rated-user user-blue\" href=\"/profile/AmirElarbi\" title=\"Expert AmirElarbi\">AmirElarbi</a>,\n",
       " <a href=\"/blog/entry/104542\">Helping the Tunisian National Team participate in the on-site IOI 2022</a>,\n",
       " <a class=\"rated-user user-black\" href=\"/profile/To_catch_a_cheater\" title=\"Unrated, To_catch_a_cheater\">To_catch_a_cheater</a>,\n",
       " <a href=\"/blog/entry/104525\">Just Reporting Some Cheaters</a>,\n",
       " <a class=\"rated-user user-violet\" href=\"/profile/cadmiumky\" title=\"Candidate Master cadmiumky\">cadmiumky</a>,\n",
       " <a href=\"/blog/entry/103966\">Codeforces Round #804 (Div. 2)</a>,\n",
       " <a class=\"rated-user user-red\" href=\"/profile/feecIe6418\" title=\"International Grandmaster feecIe6418\">feecIe6418</a>,\n",
       " <a href=\"/blog/entry/103479\">Editorial of Codeforces Global Round 21</a>,\n",
       " <a class=\"rated-user user-orange\" href=\"/profile/Gheal\" title=\"Master Gheal\">Gheal</a>,\n",
       " <a href=\"/blog/entry/104088\">Codeforces Round #804 (Div. 2) Editorial</a>,\n",
       " <a class=\"rated-user user-red\" href=\"/profile/Al.Cash\" title=\"Grandmaster Al.Cash\">Al.Cash</a>,\n",
       " <a href=\"/blog/entry/18051\">Efficient and easy segment trees</a>,\n",
       " <a class=\"rated-user user-black\" href=\"/profile/MaiHiHuOriginalRakesh\" title=\"Unrated, MaiHiHuOriginalRakesh\">MaiHiHuOriginalRakesh</a>,\n",
       " <a href=\"/blog/entry/104540\">Started learning DP</a>,\n",
       " <a class=\"rated-user user-gray\" href=\"/profile/swarup_312\" title=\"Newbie swarup_312\">swarup_312</a>,\n",
       " <a href=\"/blog/entry/104541\">A Challenging task for programmer.</a>,\n",
       " <a class=\"rated-user user-violet\" href=\"/profile/flamestorm\" title=\"Candidate Master flamestorm\">flamestorm</a>,\n",
       " <a href=\"/blog/entry/103883\">Codeforces Round #799 (Div. 4) Editorial</a>,\n",
       " <a class=\"rated-user user-gray\" href=\"/profile/celestialidiot\" title=\"Newbie celestialidiot\">celestialidiot</a>,\n",
       " <a href=\"/blog/entry/104471\"> 1676E - Eating Queries TLE</a>,\n",
       " <a class=\"rated-user user-violet\" href=\"/profile/ilyakrasnovv\" title=\"Candidate Master ilyakrasnovv\">ilyakrasnovv</a>,\n",
       " <a href=\"/blog/entry/100208\">Codeforces Round #773</a>,\n",
       " <a class=\"rated-user user-cyan\" href=\"/profile/SAT2020\" title=\"Specialist SAT2020\">SAT2020</a>,\n",
       " <a href=\"/blog/entry/104468\">TLE on Problem 365A, \"Knight Tournament\"</a>,\n",
       " <a class=\"rated-user user-gray\" href=\"/profile/Yashraj1402\" title=\"Newbie Yashraj1402\">Yashraj1402</a>,\n",
       " <a href=\"/blog/entry/104538\">Not able to solve Div2 C</a>,\n",
       " <a class=\"rated-user user-violet\" href=\"/profile/Yukuk\" title=\"Candidate Master Yukuk\">Yukuk</a>,\n",
       " <a href=\"/blog/entry/90815\">Do you play computer games?</a>,\n",
       " <a class=\"rated-user user-admin\" href=\"/profile/MikeMirzayanov\" title=\"Headquarters, MikeMirzayanov\">MikeMirzayanov</a>,\n",
       " <a href=\"/blog/entry/8790\">Rule about third-party code is changing</a>,\n",
       " <a class=\"rated-user user-orange\" href=\"/profile/brobat\" title=\"Master brobat\">brobat</a>,\n",
       " <a href=\"/blog/entry/104535\">Invitation to CodeChef Starters 46 (Rated for Div 2, 3 &amp; 4) — 6th July 2022</a>,\n",
       " <a class=\"rated-user user-violet\" href=\"/profile/Newtech66\" title=\"Candidate Master Newtech66\">Newtech66</a>,\n",
       " <a href=\"/blog/entry/100938\">Codeforces Round #782 (Div. 2) Editorial</a>,\n",
       " <a class=\"rated-user user-black\" href=\"/profile/just_a_smallfry\" title=\"Unrated, just_a_smallfry\">just_a_smallfry</a>,\n",
       " <a href=\"/blog/entry/104536\">Java-CSES-Seach&amp;Sorting</a>,\n",
       " <a class=\"rated-user user-black\" href=\"/profile/giga_chad\" title=\"Unrated, giga_chad\">giga_chad</a>,\n",
       " <a href=\"/blog/entry/104397\">Hiring bar has reduced for Females at google? </a>,\n",
       " <a class=\"rated-user user-gray\" href=\"/profile/Kvschauhan\" title=\"Newbie Kvschauhan\">Kvschauhan</a>,\n",
       " <a href=\"/blog/entry/104496\">Asked in OA</a>,\n",
       " <a class=\"rated-user user-red\" href=\"/profile/xyz2606\" title=\"International Grandmaster xyz2606\">xyz2606</a>,\n",
       " <a href=\"/blog/entry/89968\">Contest 2050 and Codeforces Round #718 (Div.1 + Div.2) Editorial</a>,\n",
       " <a class=\"rated-user user-violet\" href=\"/profile/flamestorm\" title=\"Candidate Master flamestorm\">flamestorm</a>,\n",
       " <a href=\"/blog/entry/104259\">Codeforces Round #803 (Div. 2)</a>,\n",
       " <a class=\"rated-user user-violet\" href=\"/profile/flamestorm\" title=\"Candidate Master flamestorm\">flamestorm</a>,\n",
       " <a href=\"/blog/entry/104310\">Codeforces Round #803 (Div. 2) Editorial</a>,\n",
       " <a class=\"rated-user user-gray\" href=\"/profile/Ilovefootball\" title=\"Newbie Ilovefootball\">Ilovefootball</a>,\n",
       " <a href=\"/blog/entry/104527\">I need help!</a>,\n",
       " <a class=\"rated-user user-black\" href=\"/profile/nyilinhtwe\" title=\"Unrated, nyilinhtwe\">nyilinhtwe</a>,\n",
       " <a href=\"/blog/entry/91618\">Which problem is the funniest one in codeforces?</a>,\n",
       " <a href=\"/recent-actions\">Detailed →</a>,\n",
       " <a href=\"/blog/entry/103966\"> <p>Codeforces Round #804 (Div. 2)</p>\n",
       " </a>,\n",
       " <a class=\"rated-user user-violet\" href=\"/profile/cadmiumky\" title=\"Candidate Master cadmiumky\">cadmiumky</a>,\n",
       " <a href=\"/topic/104586/en74\">history</a>,\n",
       " <a href=\"https://codeforces.com/blog/entry/103966\">Codeforces Round #804</a>,\n",
       " <a href=\"https://www.timeanddate.com/worldclock/fixedtime.html?day=4&amp;month=7&amp;year=2022&amp;hour=17&amp;min=35&amp;sec=0&amp;p1=166\">Monday, July 4th, 2022, 14:35 UTC</a>,\n",
       " <a class=\"rated-user user-orange\" href=\"/profile/Gheal\" title=\"Master Gheal\">Gheal</a>,\n",
       " <a class=\"rated-user user-blue\" href=\"/profile/tibinyte\" title=\"Expert tibinyte\">tibinyte</a>,\n",
       " <a class=\"rated-user user-violet\" href=\"/profile/cadmiumky\" title=\"Candidate Master cadmiumky\">cadmiumky</a>,\n",
       " <a class=\"rated-user user-legendary\" href=\"/profile/Um_nik\" title=\"Legendary Grandmaster Um_nik\"><span class=\"legendary-user-first-letter\">U</span>m_nik</a>,\n",
       " <a class=\"rated-user user-red\" href=\"/profile/antontrygubO_o\" title=\"International Grandmaster antontrygubO_o\">antontrygubO_o</a>,\n",
       " <a class=\"rated-user user-red\" href=\"/profile/BlueDiamond\" title=\"Grandmaster BlueDiamond\">BlueDiamond</a>,\n",
       " <a class=\"rated-user user-red\" href=\"/profile/lucaperju\" title=\"Grandmaster lucaperju\">lucaperju</a>,\n",
       " <a class=\"rated-user user-orange\" href=\"/profile/atodo\" title=\"International Master atodo\">atodo</a>,\n",
       " <a class=\"rated-user user-blue\" href=\"/profile/LucaIlie\" title=\"Expert LucaIlie\">LucaIlie</a>,\n",
       " <a class=\"rated-user user-orange\" href=\"/profile/borgar02\" title=\"Master borgar02\">borgar02</a>,\n",
       " <a class=\"rated-user user-red\" href=\"/profile/freak93\" title=\"International Grandmaster freak93\">freak93</a>,\n",
       " <a class=\"rated-user user-blue\" href=\"/profile/Ionut_Padurariu\" title=\"Expert Ionut_Padurariu\">Ionut_Padurariu</a>,\n",
       " <a class=\"rated-user user-orange\" href=\"/profile/Lemur95\" title=\"Master Lemur95\">Lemur95</a>,\n",
       " <a class=\"rated-user user-red\" href=\"/profile/FairyWinx\" title=\"Grandmaster FairyWinx\">FairyWinx</a>,\n",
       " <a class=\"rated-user user-blue\" href=\"/profile/Brodicico\" title=\"Expert Brodicico\">Brodicico</a>,\n",
       " <a class=\"rated-user user-orange\" href=\"/profile/apostoldaniel854\" title=\"Master apostoldaniel854\">apostoldaniel854</a>,\n",
       " <a class=\"rated-user user-red\" href=\"/profile/Kirill22\" title=\"International Grandmaster Kirill22\">Kirill22</a>,\n",
       " <a class=\"rated-user user-blue\" href=\"/profile/Olympia\" title=\"Expert Olympia\">Olympia</a>,\n",
       " <a class=\"rated-user user-orange\" href=\"/profile/lavish315\" title=\"Master lavish315\">lavish315</a>,\n",
       " <a class=\"rated-user user-red\" href=\"/profile/Kuroni\" title=\"International Grandmaster Kuroni\">Kuroni</a>,\n",
       " <a class=\"rated-user user-blue\" href=\"/profile/caheman\" title=\"Expert caheman\">caheman</a>,\n",
       " <a class=\"rated-user user-orange\" href=\"/profile/theodor.moroianu\" title=\"Master theodor.moroianu\">theodor.moroianu</a>,\n",
       " <a class=\"rated-user user-red\" href=\"/profile/TheScrasse\" title=\"Grandmaster TheScrasse\">TheScrasse</a>,\n",
       " <a class=\"rated-user user-legendary\" href=\"/profile/mhq\" title=\"Legendary Grandmaster mhq\"><span class=\"legendary-user-first-letter\">m</span>hq</a>,\n",
       " <a class=\"rated-user user-violet\" href=\"/profile/VELJAODI\" title=\"Candidate Master VELJAODI\">VELJAODI</a>,\n",
       " <a class=\"rated-user user-violet\" href=\"/profile/Tudy006\" title=\"Candidate Master Tudy006\">Tudy006</a>,\n",
       " <a class=\"rated-user user-violet\" href=\"/profile/stefdasca\" title=\"Candidate Master stefdasca\">stefdasca</a>,\n",
       " <a class=\"rated-user user-violet\" href=\"/profile/CaesarPP\" title=\"Candidate Master CaesarPP\">CaesarPP</a>,\n",
       " <a class=\"rated-user user-violet\" href=\"/profile/Fanurie\" title=\"Candidate Master Fanurie\">Fanurie</a>,\n",
       " <a class=\"rated-user user-blue\" href=\"/profile/elizatoma000w\" title=\"Expert elizatoma000w\">elizatoma000w</a>,\n",
       " <a class=\"rated-user user-blue\" href=\"/profile/mat50013\" title=\"Expert mat50013\">mat50013</a>,\n",
       " <a class=\"rated-user user-blue\" href=\"/profile/IacobTudor\" title=\"Expert IacobTudor\">IacobTudor</a>,\n",
       " <a class=\"rated-user user-blue\" href=\"/profile/codrincrismariu\" title=\"Expert codrincrismariu\">codrincrismariu</a>,\n",
       " <a class=\"rated-user user-blue\" href=\"/profile/Matteo.Verz\" title=\"Expert Matteo.Verz\">Matteo.Verz</a>,\n",
       " <a class=\"rated-user user-blue\" href=\"/profile/mircea_007\" title=\"Expert mircea_007\">mircea_007</a>,\n",
       " <a class=\"rated-user user-blue\" href=\"/profile/amcbn\" title=\"Expert amcbn\">amcbn</a>,\n",
       " <a class=\"rated-user user-cyan\" href=\"/profile/mihneacazan\" title=\"Specialist mihneacazan\">mihneacazan</a>,\n",
       " <a class=\"rated-user user-gray\" href=\"/profile/armand09\" title=\"Newbie armand09\">armand09</a>,\n",
       " <a class=\"rated-user user-red\" href=\"/profile/Artyom123\" title=\"Grandmaster Artyom123\">Artyom123</a>,\n",
       " <a class=\"rated-user user-green\" href=\"/profile/intrusiv\" title=\"Pupil intrusiv\">intrusiv</a>,\n",
       " <a class=\"rated-user user-blue\" href=\"/profile/tibinyte\" title=\"Expert tibinyte\">tibinyte</a>,\n",
       " <a class=\"rated-user user-orange\" href=\"/profile/Gheal\" title=\"Master Gheal\">Gheal</a>,\n",
       " <a class=\"rated-user user-red\" href=\"/profile/lucaperju\" title=\"Grandmaster lucaperju\">lucaperju</a>,\n",
       " <a class=\"rated-user user-violet\" href=\"/profile/VELJAODI\" title=\"Candidate Master VELJAODI\">VELJAODI</a>,\n",
       " <a class=\"rated-user user-red\" href=\"/profile/Artyom123\" title=\"Grandmaster Artyom123\">Artyom123</a>,\n",
       " <a class=\"rated-user user-red\" href=\"/profile/antontrygubO_o\" title=\"International Grandmaster antontrygubO_o\">antontrygubO_o</a>,\n",
       " <a href=\"https://near.org/\">NEAR</a>,\n",
       " <a href=\"https://codeforces.com/blog/entry/101398\">this post</a>,\n",
       " <a class=\"rated-user user-admin\" href=\"/profile/MikeMirzayanov\" title=\"Headquarters, MikeMirzayanov\">MikeMirzayanov</a>,\n",
       " <a href=\"https://codeforces.com/blog/entry/104088\"><strong>Editorial</strong></a>,\n",
       " <a class=\"rated-user user-black\" href=\"/profile/First_Brave_Niuniu\" title=\"Unrated, First_Brave_Niuniu\">First_Brave_Niuniu</a>,\n",
       " <a class=\"rated-user user-violet\" href=\"/profile/fAKelyh\" title=\"Candidate Master fAKelyh\">fAKelyh</a>,\n",
       " <a class=\"rated-user user-cyan\" href=\"/profile/ifzw\" title=\"Specialist ifzw\">ifzw</a>,\n",
       " <a class=\"rated-user user-gray\" href=\"/profile/H_stove\" title=\"Newbie H_stove\">H_stove</a>,\n",
       " <a class=\"rated-user user-gray\" href=\"/profile/Remakee\" title=\"Newbie Remakee\">Remakee</a>,\n",
       " <a class=\"rated-user user-legendary\" href=\"/profile/SSRS_\" title=\"Legendary Grandmaster SSRS_\"><span class=\"legendary-user-first-letter\">S</span>SRS_</a>,\n",
       " <a class=\"rated-user user-legendary\" href=\"/profile/heno239\" title=\"Legendary Grandmaster heno239\"><span class=\"legendary-user-first-letter\">h</span>eno239</a>,\n",
       " <a class=\"rated-user user-legendary\" href=\"/profile/jiangly\" title=\"Legendary Grandmaster jiangly\"><span class=\"legendary-user-first-letter\">j</span>iangly</a>,\n",
       " <a class=\"rated-user user-legendary\" href=\"/profile/MeliodasIRA\" title=\"Legendary Grandmaster MeliodasIRA\"><span class=\"legendary-user-first-letter\">M</span>eliodasIRA</a>,\n",
       " <a class=\"rated-user user-red\" href=\"/profile/noimi\" title=\"International Grandmaster noimi\">noimi</a>,\n",
       " <a href=\"/blog/entry/103966\">Read more »</a>,\n",
       " <a class=\"notice\" href=\"/contest/1699\" style=\"text-decoration: none;\">Codeforces Round #804 (Div. 2)</a>,\n",
       " <a class=\"topic-vote-up-104586\" href=\"#\"><img alt=\"Vote: I like it\" src=\"//cdn.codeforces.com/s/42322/images/actions/voteup.png\" style=\"vertical-align:middle;position:relative;top:-0.2em\" title=\"Vote: I like it\"/></a>,\n",
       " <a class=\"topic-vote-down-104586\" href=\"#\"><img alt=\"Vote: I do not like it\" src=\"//cdn.codeforces.com/s/42322/images/actions/votedown.png\" style=\"vertical-align:middle;position:relative;top:-0.2em\" title=\"Vote: I do not like it\"/></a>,\n",
       " <a href=\"/profile/cadmiumky\"><img alt=\"Author\" src=\"//cdn.codeforces.com/s/42322/images/blog/user_16x16.png\" style=\"vertical-align:middle;position:relative;top:-1px\" title=\"Author\"/></a>,\n",
       " <a href=\"/profile/cadmiumky\">\n",
       "         cadmiumky\n",
       "         </a>,\n",
       " <a href=\"/blog/entry/103966#comments\"><img alt=\"Comments\" src=\"//cdn.codeforces.com/s/42322/images/blog/comments_16x16.png\" style=\"vertical-align:middle;position:relative;top:-1px\" title=\"Comments\"/></a>,\n",
       " <a href=\"/blog/entry/103966#comments\">\n",
       "         143\n",
       "         </a>,\n",
       " <a href=\"/blog/entry/104485\"> <p>Leagues of Code Summer Camp</p>\n",
       " </a>,\n",
       " <a class=\"rated-user user-black\" href=\"/profile/Harbour.Space\" title=\"Unrated, Harbour.Space\">Harbour.Space</a>,\n",
       " <a href=\"/topic/105105/en2\">history</a>,\n",
       " <a href=\"https://harbour.space/register\">Harbour.Space University</a>,\n",
       " <a href=\"https://www.leaguesofcode.com/\">Leagues of Code</a>,\n",
       " <a class=\"rated-user user-legendary\" href=\"/profile/mhq\" title=\"Legendary Grandmaster mhq\"><span class=\"legendary-user-first-letter\">m</span>hq</a>,\n",
       " <a class=\"rated-user user-red\" href=\"/profile/MaksymOboznyi\" title=\"Grandmaster MaksymOboznyi\">MaksymOboznyi</a>,\n",
       " <a class=\"rated-user user-red\" href=\"/profile/pashka\" title=\"International Grandmaster pashka\">pashka</a>,\n",
       " <a href=\"https://summer-camp.leaguesofcode.com?utm_source=codeforces&amp;utm_medium=partner&amp;utm_campaign=summer_camp\" style=\"text-decoration: none;font-size: 16.0px;background-color: rgb(8,17,49);color: white;font-weight: bold;padding: 0.5em 1.0em;\">Learn more →</a>,\n",
       " <a href=\"/blog/entry/104485\">Read more »</a>,\n",
       " <a class=\"topic-vote-up-105105\" href=\"#\"><img alt=\"Vote: I like it\" src=\"//cdn.codeforces.com/s/42322/images/actions/voteup.png\" style=\"vertical-align:middle;position:relative;top:-0.2em\" title=\"Vote: I like it\"/></a>,\n",
       " <a class=\"topic-vote-down-105105\" href=\"#\"><img alt=\"Vote: I do not like it\" src=\"//cdn.codeforces.com/s/42322/images/actions/votedown.png\" style=\"vertical-align:middle;position:relative;top:-0.2em\" title=\"Vote: I do not like it\"/></a>,\n",
       " <a href=\"/profile/Harbour.Space\"><img alt=\"Author\" src=\"//cdn.codeforces.com/s/42322/images/blog/user_16x16.png\" style=\"vertical-align:middle;position:relative;top:-1px\" title=\"Author\"/></a>,\n",
       " <a href=\"/profile/Harbour.Space\">\n",
       "         Harbour.Space\n",
       "         </a>,\n",
       " <a href=\"/blog/entry/104485#comments\"><img alt=\"Comments\" src=\"//cdn.codeforces.com/s/42322/images/blog/comments_16x16.png\" style=\"vertical-align:middle;position:relative;top:-1px\" title=\"Comments\"/></a>,\n",
       " <a href=\"/blog/entry/104485#comments\">\n",
       "         0\n",
       "         </a>,\n",
       " <a href=\"/blog/entry/104259\"> <p>Codeforces Round #803 (Div. 2)</p>\n",
       " </a>,\n",
       " <a class=\"rated-user user-violet\" href=\"/profile/flamestorm\" title=\"Candidate Master flamestorm\">flamestorm</a>,\n",
       " <a class=\"rated-user user-blue\" href=\"/profile/ScarletS\" title=\"Expert ScarletS\">ScarletS</a>,\n",
       " <a href=\"/contest/1698\" title=\"Codeforces Round 803 (Div. 2)\">Codeforces Round #803 (Div. 2)</a>,\n",
       " <a class=\"contest-time\" contestid=\"1698\" href=\"https://www.timeanddate.com/worldclock/fixedtime.html?day=28&amp;month=6&amp;year=2022&amp;hour=17&amp;min=35&amp;sec=0&amp;p1=166\"><span class=\"format-time-with-dow\">Jun/28/2022 17:35 (Moscow time)</span></a>,\n",
       " <a class=\"rated-user user-red\" href=\"/profile/errorgorn\" title=\"International Grandmaster errorgorn\">errorgorn</a>,\n",
       " <a class=\"rated-user user-admin\" href=\"/profile/MikeMirzayanov\" title=\"Headquarters, MikeMirzayanov\">MikeMirzayanov</a>,\n",
       " <a class=\"rated-user user-legendary\" href=\"/profile/KAN\" title=\"Legendary Grandmaster KAN\"><span class=\"legendary-user-first-letter\">K</span>AN</a>,\n",
       " <a class=\"rated-user user-red\" href=\"/profile/antontrygubO_o\" title=\"International Grandmaster antontrygubO_o\">antontrygubO_o</a>,\n",
       " <a class=\"rated-user user-red\" href=\"/profile/AmShZ\" title=\"Grandmaster AmShZ\">AmShZ</a>,\n",
       " <a class=\"rated-user user-red\" href=\"/profile/Sexpert\" title=\"Grandmaster Sexpert\">Sexpert</a>,\n",
       " <a class=\"rated-user user-orange\" href=\"/profile/MagentaCobra\" title=\"Master MagentaCobra\">MagentaCobra</a>,\n",
       " <a class=\"rated-user user-orange\" href=\"/profile/AlperenT\" title=\"Master AlperenT\">AlperenT</a>,\n",
       " <a class=\"rated-user user-orange\" href=\"/profile/satyam_343\" title=\"Master satyam_343\">satyam_343</a>,\n",
       " <a class=\"rated-user user-orange\" href=\"/profile/Vladithur\" title=\"Master Vladithur\">Vladithur</a>,\n",
       " <a class=\"rated-user user-orange\" href=\"/profile/polarity-\" title=\"Master polarity-\">polarity-</a>,\n",
       " <a class=\"rated-user user-orange\" href=\"/profile/fishy15\" title=\"Master fishy15\">fishy15</a>,\n",
       " <a class=\"rated-user user-violet\" href=\"/profile/epicxtroll\" title=\"Candidate Master epicxtroll\">epicxtroll</a>,\n",
       " <a class=\"rated-user user-blue\" href=\"/profile/Surprise_Me\" title=\"Expert Surprise_Me\">Surprise_Me</a>,\n",
       " <a class=\"rated-user user-blue\" href=\"/profile/jampm\" title=\"Expert jampm\">jampm</a>,\n",
       " <a class=\"rated-user user-cyan\" href=\"/profile/Yangster\" title=\"Specialist Yangster\">Yangster</a>,\n",
       " <a class=\"rated-user user-cyan\" href=\"/profile/Il9\" title=\"Specialist Il9\">Il9</a>,\n",
       " <a class=\"rated-user user-cyan\" href=\"/profile/ak2006\" title=\"Specialist ak2006\">ak2006</a>,\n",
       " <a class=\"rated-user user-green\" href=\"/profile/FionnKimberOShea\" title=\"Pupil FionnKimberOShea\">FionnKimberOShea</a>,\n",
       " <a class=\"rated-user user-green\" href=\"/profile/Codula\" title=\"Pupil Codula\">Codula</a>,\n",
       " <a class=\"rated-user user-gray\" href=\"/profile/bakekaga\" title=\"Newbie bakekaga\">bakekaga</a>,\n",
       " <a href=\"https://near.org/\">NEAR</a>,\n",
       " <a href=\"https://codeforces.com/blog/entry/101398\">this post</a>,\n",
       " <a href=\"https://codeforces.com/blog/entry/45307\">this blog</a>,\n",
       " <a href=\"https://codeforces.com/blog/entry/104310\">Editorial</a>,\n",
       " <a href=\"/blog/entry/104259\">Read more »</a>,\n",
       " <a class=\"notice\" href=\"/contest/1698\" style=\"text-decoration: none;\">Codeforces Round #803 (Div. 2)</a>,\n",
       " <a class=\"tag notice\" href=\"/search?query=surang-fan-club\" style=\"text-decoration: none;\">surang-fan-club</a>,\n",
       " <a class=\"tag notice\" href=\"/search?query=803\" style=\"text-decoration: none;\">803</a>,\n",
       " <a class=\"tag notice\" href=\"/search?query=deja-vu\" style=\"text-decoration: none;\">deja-vu</a>,\n",
       " <a class=\"topic-vote-up-104879\" href=\"#\"><img alt=\"Vote: I like it\" src=\"//cdn.codeforces.com/s/42322/images/actions/voteup.png\" style=\"vertical-align:middle;position:relative;top:-0.2em\" title=\"Vote: I like it\"/></a>,\n",
       " <a class=\"topic-vote-down-104879\" href=\"#\"><img alt=\"Vote: I do not like it\" src=\"//cdn.codeforces.com/s/42322/images/actions/votedown.png\" style=\"vertical-align:middle;position:relative;top:-0.2em\" title=\"Vote: I do not like it\"/></a>,\n",
       " <a href=\"/profile/flamestorm\"><img alt=\"Author\" src=\"//cdn.codeforces.com/s/42322/images/blog/user_16x16.png\" style=\"vertical-align:middle;position:relative;top:-1px\" title=\"Author\"/></a>,\n",
       " <a href=\"/profile/flamestorm\">\n",
       "         flamestorm\n",
       "         </a>,\n",
       " <a href=\"/blog/entry/104259#comments\"><img alt=\"Comments\" src=\"//cdn.codeforces.com/s/42322/images/blog/comments_16x16.png\" style=\"vertical-align:middle;position:relative;top:-1px\" title=\"Comments\"/></a>,\n",
       " <a href=\"/blog/entry/104259#comments\">\n",
       "         265\n",
       "         </a>,\n",
       " <a href=\"/blog/entry/104159\"> <p>Codeforces Global Round 21</p>\n",
       " </a>,\n",
       " <a class=\"rated-user user-red\" href=\"/profile/feecIe6418\" title=\"International Grandmaster feecIe6418\">feecIe6418</a>,\n",
       " <a class=\"contest-time\" contestid=\"1696\" href=\"https://www.timeanddate.com/worldclock/fixedtime.html?day=25&amp;month=6&amp;year=2022&amp;hour=17&amp;min=35&amp;sec=0&amp;p1=166\"><span class=\"format-time-with-dow\">Jun/25/2022 17:35 (Moscow time)</span></a>,\n",
       " <a href=\"/contest/1696\" title=\"Codeforces Global Round 21\">Codeforces Global Round 21</a>,\n",
       " <a href=\"https://codeforces.com/blog/entry/65002\">Codeforces Global Rounds</a>,\n",
       " <a href=\"https://pastebin.com/QT5sXEaT\">table</a>,\n",
       " <a class=\"rated-user user-red\" href=\"/profile/gyh20\" title=\"International Grandmaster gyh20\">gyh20</a>,\n",
       " <a class=\"rated-user user-red\" href=\"/profile/irkstepanov\" title=\"Grandmaster irkstepanov\">irkstepanov</a>,\n",
       " <a class=\"rated-user user-legendary\" href=\"/profile/KAN\" title=\"Legendary Grandmaster KAN\"><span class=\"legendary-user-first-letter\">K</span>AN</a>,\n",
       " <a class=\"rated-user user-red\" href=\"/profile/gyh20\" title=\"International Grandmaster gyh20\">gyh20</a>,\n",
       " <a class=\"rated-user user-red\" href=\"/profile/miepu\" title=\"Grandmaster miepu\">miepu</a>,\n",
       " <a class=\"rated-user user-violet\" href=\"/profile/ilyakrasnovv\" title=\"Candidate Master ilyakrasnovv\">ilyakrasnovv</a>,\n",
       " <a class=\"rated-user user-orange\" href=\"/profile/fengzhengwei\" title=\"International Master fengzhengwei\">fengzhengwei</a>,\n",
       " <a class=\"rated-user user-orange\" href=\"/profile/Vladithur\" title=\"Master Vladithur\">Vladithur</a>,\n",
       " <a class=\"rated-user user-red\" href=\"/profile/antontrygubO_o\" title=\"International Grandmaster antontrygubO_o\">antontrygubO_o</a>,\n",
       " <a class=\"rated-user user-red\" href=\"/profile/Golovanov399\" title=\"International Grandmaster Golovanov399\">Golovanov399</a>,\n",
       " <a class=\"rated-user user-violet\" href=\"/profile/dbsic211\" title=\"Candidate Master dbsic211\">dbsic211</a>,\n",
       " <a class=\"rated-user user-cyan\" href=\"/profile/ak2006\" title=\"Specialist ak2006\">ak2006</a>,\n",
       " <a class=\"rated-user user-admin\" href=\"/profile/MikeMirzayanov\" title=\"Headquarters, MikeMirzayanov\">MikeMirzayanov</a>,\n",
       " <a href=\"https://codeforces.com/blog/entry/103479\">https://codeforces.com/blog/entry/103479</a>,\n",
       " <a class=\"rated-user user-legendary\" href=\"/profile/ksun48\" title=\"Legendary Grandmaster ksun48\"><span class=\"legendary-user-first-letter\">k</span>sun48</a>,\n",
       " <a class=\"rated-user user-legendary\" href=\"/profile/jiangly\" title=\"Legendary Grandmaster jiangly\"><span class=\"legendary-user-first-letter\">j</span>iangly</a>,\n",
       " <a class=\"rated-user user-legendary\" href=\"/profile/Um_nik\" title=\"Legendary Grandmaster Um_nik\"><span class=\"legendary-user-first-letter\">U</span>m_nik</a>,\n",
       " <a class=\"rated-user user-legendary\" href=\"/profile/Petr\" title=\"Legendary Grandmaster Petr\"><span class=\"legendary-user-first-letter\">P</span>etr</a>,\n",
       " <a class=\"rated-user user-legendary\" href=\"/profile/maroonrk\" title=\"Legendary Grandmaster maroonrk\"><span class=\"legendary-user-first-letter\">m</span>aroonrk</a>,\n",
       " <a href=\"/blog/entry/104159\">Read more »</a>,\n",
       " <a class=\"notice\" href=\"/contest/1696\" style=\"text-decoration: none;\">Codeforces Global Round 21</a>,\n",
       " <a class=\"topic-vote-up-104779\" href=\"#\"><img alt=\"Vote: I like it\" src=\"//cdn.codeforces.com/s/42322/images/actions/voteup.png\" style=\"vertical-align:middle;position:relative;top:-0.2em\" title=\"Vote: I like it\"/></a>,\n",
       " <a class=\"topic-vote-down-104779\" href=\"#\"><img alt=\"Vote: I do not like it\" src=\"//cdn.codeforces.com/s/42322/images/actions/votedown.png\" style=\"vertical-align:middle;position:relative;top:-0.2em\" title=\"Vote: I do not like it\"/></a>,\n",
       " <a href=\"/profile/feecIe6418\"><img alt=\"Author\" src=\"//cdn.codeforces.com/s/42322/images/blog/user_16x16.png\" style=\"vertical-align:middle;position:relative;top:-1px\" title=\"Author\"/></a>,\n",
       " <a href=\"/profile/feecIe6418\">\n",
       "         feecIe6418\n",
       "         </a>,\n",
       " <a href=\"/blog/entry/104159#comments\"><img alt=\"Comments\" src=\"//cdn.codeforces.com/s/42322/images/blog/comments_16x16.png\" style=\"vertical-align:middle;position:relative;top:-1px\" title=\"Comments\"/></a>,\n",
       " <a href=\"/blog/entry/104159#comments\">\n",
       "         144\n",
       "         </a>,\n",
       " <a href=\"/blog/entry/103977\"> <p>Codeforces Round #802 (Div. 2, based on All-Russian olympiad in the name of Keldysh) [Rated]</p>\n",
       " </a>,\n",
       " <a class=\"rated-user user-red\" href=\"/profile/ch_egor\" title=\"International Grandmaster ch_egor\">ch_egor</a>,\n",
       " <a class=\"rated-user user-red\" href=\"/profile/GlebsHP\" title=\"International Grandmaster GlebsHP\">GlebsHP</a>,\n",
       " <a class=\"rated-user user-red\" href=\"/profile/ch_egor\" title=\"International Grandmaster ch_egor\">ch_egor</a>,\n",
       " <a class=\"rated-user user-legendary\" href=\"/profile/Endagorion\" title=\"Legendary Grandmaster Endagorion\"><span class=\"legendary-user-first-letter\">E</span>ndagorion</a>,\n",
       " <a class=\"rated-user user-red\" href=\"/profile/vintage_Vlad_Makeev\" title=\"International Grandmaster vintage_Vlad_Makeev\">vintage_Vlad_Makeev</a>,\n",
       " <a class=\"rated-user user-red\" href=\"/profile/Zlobober\" title=\"International Grandmaster Zlobober\">Zlobober</a>,\n",
       " <a class=\"rated-user user-red\" href=\"/profile/meshanya\" title=\"Grandmaster meshanya\">meshanya</a>,\n",
       " <a class=\"rated-user user-red\" href=\"/profile/cdkrot\" title=\"International Grandmaster cdkrot\">cdkrot</a>,\n",
       " <a class=\"rated-user user-red\" href=\"/profile/voidmax\" title=\"Grandmaster voidmax\">voidmax</a>,\n",
       " <a class=\"rated-user user-red\" href=\"/profile/grphil\" title=\"Grandmaster grphil\">grphil</a>,\n",
       " <a class=\"rated-user user-red\" href=\"/profile/fedoseev.timofey\" title=\"International Grandmaster fedoseev.timofey\">fedoseev.timofey</a>,\n",
       " <a class=\"contest-time\" contestid=\"1700\" href=\"https://www.timeanddate.com/worldclock/fixedtime.html?day=19&amp;month=6&amp;year=2022&amp;hour=12&amp;min=5&amp;sec=0&amp;p1=166\"><span class=\"format-time-with-dow\">Jun/19/2022 12:05 (Moscow time)</span></a>,\n",
       " <a href=\"https://codeforces.com/blog/entry/21185\">327</a>,\n",
       " <a href=\"https://codeforces.com/blog/entry/23309\">342</a>,\n",
       " <a href=\"https://codeforces.com/blog/entry/43615\">345</a>,\n",
       " <a href=\"https://codeforces.com/blog/entry/47769\">376</a>,\n",
       " <a href=\"https://codeforces.com/blog/entry/50613\">401</a>,\n",
       " <a href=\"https://codeforces.com/blog/entry/54350\">433</a>,\n",
       " <a href=\"https://codeforces.com/blog/entry/55201\">441</a>,\n",
       " <a href=\"https://codeforces.com/blog/entry/57981\">466</a>,\n",
       " <a href=\"https://codeforces.com/blog/entry/58229\">469</a>,\n",
       " <a href=\"https://codeforces.com/blog/entry/61638\">507</a>,\n",
       " <a href=\"https://codeforces.com/blog/entry/62440\">516</a>,\n",
       " <a href=\"https://codeforces.com/blog/entry/65433\">541</a>,\n",
       " <a href=\"https://codeforces.com/blog/entry/65768\">545</a>,\n",
       " <a href=\"https://codeforces.com/blog/entry/67703\">567</a>,\n",
       " <a href=\"https://codeforces.com/blog/entry/69538\">583</a>,\n",
       " <a href=\"https://codeforces.com/blog/entry/70680\">594</a>,\n",
       " <a href=\"https://codeforces.com/blog/entry/74106\">622</a>,\n",
       " <a href=\"https://codeforces.com/blog/entry/52457\">626</a>,\n",
       " <a href=\"https://codeforces.com/blog/entry/80214\">657</a>,\n",
       " <a href=\"https://codeforces.com/blog/entry/84198\">680</a>,\n",
       " <a href=\"https://codeforces.com/blog/entry/87791\">704</a>,\n",
       " <a href=\"https://codeforces.com/blog/entry/88590\">707</a>,\n",
       " <a href=\"https://codeforces.com/blog/entry/91905\">727</a>,\n",
       " <a href=\"https://codeforces.com/blog/entry/95864\">751</a>,\n",
       " <a href=\"https://codeforces.com/blog/entry/100591\">775</a>,\n",
       " <a class=\"rated-user user-red\" href=\"/profile/Siberian\" title=\"Grandmaster Siberian\">Siberian</a>,\n",
       " <a class=\"rated-user user-orange\" href=\"/profile/_overrated_\" title=\"Master _overrated_\">_overrated_</a>,\n",
       " <a class=\"rated-user user-red\" href=\"/profile/Igorbunov\" title=\"Grandmaster Igorbunov\">Igorbunov</a>,\n",
       " <a class=\"rated-user user-orange\" href=\"/profile/Ziware\" title=\"International Master Ziware\">Ziware</a>,\n",
       " <a class=\"rated-user user-orange\" href=\"/profile/_tryhard\" title=\"Master _tryhard\">_tryhard</a>,\n",
       " <a class=\"rated-user user-orange\" href=\"/profile/EntitledMonkey\" title=\"Master EntitledMonkey\">EntitledMonkey</a>,\n",
       " <a class=\"rated-user user-red\" href=\"/profile/fedoseev.timofey\" title=\"International Grandmaster fedoseev.timofey\">fedoseev.timofey</a>,\n",
       " <a class=\"rated-user user-red\" href=\"/profile/74TrAkToR\" title=\"Grandmaster 74TrAkToR\">74TrAkToR</a>,\n",
       " <a class=\"rated-user user-admin\" href=\"/profile/MikeMirzayanov\" title=\"Headquarters, MikeMirzayanov\">MikeMirzayanov</a>,\n",
       " <a href=\"https://tinkoff.ru\">Tinkoff</a>,\n",
       " <a class=\"rated-user user-black\" href=\"/profile/TKolinkova\" title=\"Unrated, TKolinkova\">TKolinkova</a>,\n",
       " <a href=\"https://near.org/\">NEAR</a>,\n",
       " <a href=\"https://codeforces.com/blog/entry/101398\">this post</a>,\n",
       " <a class=\"rated-user user-legendary\" href=\"/profile/Um_nik\" title=\"Legendary Grandmaster Um_nik\"><span class=\"legendary-user-first-letter\">U</span>m_nik</a>,\n",
       " <a class=\"rated-user user-legendary\" href=\"/profile/mhq\" title=\"Legendary Grandmaster mhq\"><span class=\"legendary-user-first-letter\">m</span>hq</a>,\n",
       " <a class=\"rated-user user-cyan\" href=\"/profile/MichsSS\" title=\"Specialist MichsSS\">MichsSS</a>,\n",
       " <a class=\"rated-user user-cyan\" href=\"/profile/kucipendik\" title=\"Specialist kucipendik\">kucipendik</a>,\n",
       " <a class=\"rated-user user-orange\" href=\"/profile/TeaTime\" title=\"Master TeaTime\">TeaTime</a>,\n",
       " <a class=\"rated-user user-orange\" href=\"/profile/devid\" title=\"Master devid\">devid</a>,\n",
       " <a class=\"rated-user user-red\" href=\"/profile/Mangooste\" title=\"Grandmaster Mangooste\">Mangooste</a>,\n",
       " <a class=\"rated-user user-gray\" href=\"/profile/teacherone\" title=\"Newbie teacherone\">teacherone</a>,\n",
       " <a class=\"rated-user user-gray\" href=\"/profile/zsxdcfv\" title=\"Newbie zsxdcfv\">zsxdcfv</a>,\n",
       " <a class=\"rated-user user-blue\" href=\"/profile/AndrescuIII\" title=\"Expert AndrescuIII\">AndrescuIII</a>,\n",
       " <a class=\"rated-user user-gray\" href=\"/profile/rhzmydd\" title=\"Newbie rhzmydd\">rhzmydd</a>,\n",
       " <a class=\"rated-user user-green\" href=\"/profile/Yuki991\" title=\"Pupil Yuki991\">Yuki991</a>,\n",
       " <a class=\"rated-user user-legendary\" href=\"/profile/SSRS_\" title=\"Legendary Grandmaster SSRS_\"><span class=\"legendary-user-first-letter\">S</span>SRS_</a>,\n",
       " <a class=\"rated-user user-red\" href=\"/profile/noimi\" title=\"International Grandmaster noimi\">noimi</a>,\n",
       " <a class=\"rated-user user-orange\" href=\"/profile/Fysty\" title=\"Master Fysty\">Fysty</a>,\n",
       " <a class=\"rated-user user-red\" href=\"/profile/peti1234\" title=\"International Grandmaster peti1234\">peti1234</a>,\n",
       " <a class=\"rated-user user-gray\" href=\"/profile/teacherone\" title=\"Newbie teacherone\">teacherone</a>,\n",
       " <a href=\"https://codeforces.com/blog/entry/103978\">Editorial</a>,\n",
       " <a href=\"/blog/entry/103977\">Read more »</a>,\n",
       " <a class=\"notice\" href=\"/contest/1700\" style=\"text-decoration: none;\">Codeforces Round #802 (Div. 2)</a>,\n",
       " <a class=\"tag notice\" href=\"/search?query=%23802\" style=\"text-decoration: none;\">#802</a>,\n",
       " <a class=\"tag notice\" href=\"/search?query=%23round\" style=\"text-decoration: none;\">#round</a>,\n",
       " <a class=\"topic-vote-up-104597\" href=\"#\"><img alt=\"Vote: I like it\" src=\"//cdn.codeforces.com/s/42322/images/actions/voteup.png\" style=\"vertical-align:middle;position:relative;top:-0.2em\" title=\"Vote: I like it\"/></a>,\n",
       " <a class=\"topic-vote-down-104597\" href=\"#\"><img alt=\"Vote: I do not like it\" src=\"//cdn.codeforces.com/s/42322/images/actions/votedown.png\" style=\"vertical-align:middle;position:relative;top:-0.2em\" title=\"Vote: I do not like it\"/></a>,\n",
       " <a href=\"/profile/ch_egor\"><img alt=\"Author\" src=\"//cdn.codeforces.com/s/42322/images/blog/user_16x16.png\" style=\"vertical-align:middle;position:relative;top:-1px\" title=\"Author\"/></a>,\n",
       " <a href=\"/profile/ch_egor\">\n",
       "         ch_egor\n",
       "         </a>,\n",
       " <a href=\"/blog/entry/103977#comments\"><img alt=\"Comments\" src=\"//cdn.codeforces.com/s/42322/images/blog/comments_16x16.png\" style=\"vertical-align:middle;position:relative;top:-1px\" title=\"Comments\"/></a>,\n",
       " <a href=\"/blog/entry/103977#comments\">\n",
       "         206\n",
       "         </a>,\n",
       " <a href=\"/blog/entry/103955\"> <p>Codeforces Round #801 — EPIC Institute of Technology Round (Div. 2)</p>\n",
       " </a>,\n",
       " <a class=\"rated-user user-red\" href=\"/profile/jdurie\" title=\"Grandmaster jdurie\">jdurie</a>,\n",
       " <a href=\"https://epic-institute.io/\"><img alt=\"EPIC\" src=\"https://assets.codeforces.com/images/deltix/epic2022.gif\" style=\"float: right;height: 230.0px;padding-left: 35.0px;padding-right: 73.0px;padding-top: 41.0px;padding-bottom: 33.0px;max-width: 100.0%;max-height: 100.0%;\"/></a>,\n",
       " <a href=\"/contest/1695\" title=\"Codeforces Round 801 (Div. 2) and EPIC Institute of Technology Round\">Codeforces Round #801 (Div. 2) and EPIC Institute of Technology Round</a>,\n",
       " <a class=\"contest-time\" contestid=\"1695\" href=\"https://www.timeanddate.com/worldclock/fixedtime.html?day=18&amp;month=6&amp;year=2022&amp;hour=17&amp;min=35&amp;sec=0&amp;p1=166\"><span class=\"format-time-with-dow\">Jun/18/2022 17:35 (Moscow time)</span></a>,\n",
       " <a class=\"rated-user user-orange\" href=\"/profile/ki0apa\" title=\"Master ki0apa\">ki0apa</a>,\n",
       " <a class=\"rated-user user-orange\" href=\"/profile/akifpatel\" title=\"International Master akifpatel\">akifpatel</a>,\n",
       " <a class=\"rated-user user-red\" href=\"/profile/antontrygubO_o\" title=\"International Grandmaster antontrygubO_o\">antontrygubO_o</a>,\n",
       " <a class=\"rated-user user-blue\" href=\"/profile/18o3\" title=\"Expert 18o3\">18o3</a>,\n",
       " <a class=\"rated-user user-blue\" href=\"/profile/bobbilyking\" title=\"Expert bobbilyking\">bobbilyking</a>,\n",
       " <a class=\"rated-user user-red\" href=\"/profile/brunovsky\" title=\"Grandmaster brunovsky\">brunovsky</a>,\n",
       " <a class=\"rated-user user-orange\" href=\"/profile/BucketPotato\" title=\"International Master BucketPotato\">BucketPotato</a>,\n",
       " <a class=\"rated-user user-blue\" href=\"/profile/dbaumg\" title=\"Expert dbaumg\">dbaumg</a>,\n",
       " <a class=\"rated-user user-orange\" href=\"/profile/fishy15\" title=\"Master fishy15\">fishy15</a>,\n",
       " <a class=\"rated-user user-cyan\" href=\"/profile/jonathanh8686\" title=\"Specialist jonathanh8686\">jonathanh8686</a>,\n",
       " <a class=\"rated-user user-violet\" href=\"/profile/Max_Calincu\" title=\"Candidate Master Max_Calincu\">Max_Calincu</a>,\n",
       " <a class=\"rated-user user-legendary\" href=\"/profile/mhq\" title=\"Legendary Grandmaster mhq\"><span class=\"legendary-user-first-letter\">m</span>hq</a>,\n",
       " <a class=\"rated-user user-orange\" href=\"/profile/naman1601\" title=\"Master naman1601\">naman1601</a>,\n",
       " <a class=\"rated-user user-gray\" href=\"/profile/richardkyu\" title=\"Newbie richardkyu\">richardkyu</a>,\n",
       " <a class=\"rated-user user-red\" href=\"/profile/rivalq\" title=\"Grandmaster rivalq\">rivalq</a>,\n",
       " <a class=\"rated-user user-orange\" href=\"/profile/satyam_343\" title=\"Master satyam_343\">satyam_343</a>,\n",
       " <a class=\"rated-user user-orange\" href=\"/profile/timreizin\" title=\"Master timreizin\">timreizin</a>,\n",
       " <a class=\"rated-user user-orange\" href=\"/profile/Vladik\" title=\"Master Vladik\">Vladik</a>,\n",
       " <a class=\"rated-user user-orange\" href=\"/profile/vilcheuski\" title=\"International Master vilcheuski\">vilcheuski</a>,\n",
       " <a class=\"rated-user user-admin\" href=\"/profile/MikeMirzayanov\" title=\"Headquarters, MikeMirzayanov\">MikeMirzayanov</a>,\n",
       " <a href=\"https://codeforces.com/blog/entry/103996\">Editorial</a>,\n",
       " <a href=\"https://codeforces.com/blog/entry/102993\">in our blog</a>,\n",
       " <a href=\"https://deltix.io/about-us.html\">Deltix</a>,\n",
       " <a href=\"https://www.epam.com/about\">EPAM Systems</a>,\n",
       " <a href=\"https://epic-institute.io/\">visit our website</a>,\n",
       " <a href=\"https://t.me/+5i_i0m3VUks3NDFi\">our chat</a>,\n",
       " <a href=\"https://epic-institute.io/programmes-overview/\" style=\"text-decoration: none;font-size: 18.0px;background-color: rgb(1,87,155);color: white;font-weight: bold;padding: 0.5em 1.0em;\">Join us →</a>,\n",
       " <a href=\"/blog/entry/103955\">Read more »</a>,\n",
       " <a class=\"notice\" href=\"/contest/1695\" style=\"text-decoration: none;\">Codeforces Round #801 (Div. 2) and EPIC Institute of Technology Round</a>,\n",
       " <a class=\"tag notice\" href=\"/search?query=epic\" style=\"text-decoration: none;\">epic</a>,\n",
       " <a class=\"tag notice\" href=\"/search?query=801\" style=\"text-decoration: none;\">801</a>,\n",
       " <a class=\"topic-vote-up-104574\" href=\"#\"><img alt=\"Vote: I like it\" src=\"//cdn.codeforces.com/s/42322/images/actions/voteup.png\" style=\"vertical-align:middle;position:relative;top:-0.2em\" title=\"Vote: I like it\"/></a>,\n",
       " <a class=\"topic-vote-down-104574\" href=\"#\"><img alt=\"Vote: I do not like it\" src=\"//cdn.codeforces.com/s/42322/images/actions/votedown.png\" style=\"vertical-align:middle;position:relative;top:-0.2em\" title=\"Vote: I do not like it\"/></a>,\n",
       " <a href=\"/profile/jdurie\"><img alt=\"Author\" src=\"//cdn.codeforces.com/s/42322/images/blog/user_16x16.png\" style=\"vertical-align:middle;position:relative;top:-1px\" title=\"Author\"/></a>,\n",
       " <a href=\"/profile/jdurie\">\n",
       "         jdurie\n",
       "         </a>,\n",
       " <a href=\"/blog/entry/103955#comments\"><img alt=\"Comments\" src=\"//cdn.codeforces.com/s/42322/images/blog/comments_16x16.png\" style=\"vertical-align:middle;position:relative;top:-1px\" title=\"Comments\"/></a>,\n",
       " <a href=\"/blog/entry/103955#comments\">\n",
       "         219\n",
       "         </a>,\n",
       " <a href=\"/blog/entry/103892\"> <p>Codeforces Round #800</p>\n",
       " </a>,\n",
       " <a class=\"rated-user user-red\" href=\"/profile/AmShZ\" title=\"Grandmaster AmShZ\">AmShZ</a>,\n",
       " <a class=\"rated-user user-red\" href=\"/profile/Keshi\" title=\"Grandmaster Keshi\">Keshi</a>,\n",
       " <a class=\"rated-user user-red\" href=\"/profile/alireza_kaviani\" title=\"Grandmaster alireza_kaviani\">alireza_kaviani</a>,\n",
       " <a href=\"/contest/1693\" title=\"Codeforces Round 800 (Div. 1)\">Codeforces Round #800 (Div. 1)</a>,\n",
       " <a href=\"/contest/1694\" title=\"Codeforces Round 800 (Div. 2)\">Codeforces Round #800 (Div. 2)</a>,\n",
       " <a class=\"contest-time\" contestid=\"1693\" href=\"https://www.timeanddate.com/worldclock/fixedtime.html?day=16&amp;month=6&amp;year=2022&amp;hour=17&amp;min=35&amp;sec=0&amp;p1=166\"><span class=\"format-time-with-dow\">Jun/16/2022 17:35 (Moscow time)</span></a>,\n",
       " <a class=\"rated-user user-red\" href=\"/profile/antontrygubO_o\" title=\"International Grandmaster antontrygubO_o\">antontrygubO_o</a>,\n",
       " <a class=\"rated-user user-legendary\" href=\"/profile/Um_nik\" title=\"Legendary Grandmaster Um_nik\"><span class=\"legendary-user-first-letter\">U</span>m_nik</a>,\n",
       " <a class=\"rated-user user-red\" href=\"/profile/errorgorn\" title=\"International Grandmaster errorgorn\">errorgorn</a>,\n",
       " <a class=\"rated-user user-red\" href=\"/profile/Koosha_Mv\" title=\"Grandmaster Koosha_Mv\">Koosha_Mv</a>,\n",
       " <a class=\"rated-user user-red\" href=\"/profile/irkstepanov\" title=\"Grandmaster irkstepanov\">irkstepanov</a>,\n",
       " <a class=\"rated-user user-red\" href=\"/profile/ArchUser84\" title=\"Grandmaster ArchUser84\">ArchUser84</a>,\n",
       " <a class=\"rated-user user-orange\" href=\"/profile/sohsoh\" title=\"International Master sohsoh\">sohsoh</a>,\n",
       " <a class=\"rated-user user-orange\" href=\"/profile/fatemetmhr\" title=\"Master fatemetmhr\">fatemetmhr</a>,\n",
       " <a class=\"rated-user user-orange\" href=\"/profile/Dorost\" title=\"International Master Dorost\">Dorost</a>,\n",
       " <a class=\"rated-user user-orange\" href=\"/profile/nor\" title=\"Master nor\">nor</a>,\n",
       " <a class=\"rated-user user-violet\" href=\"/profile/pooya-shams\" title=\"Candidate Master pooya-shams\">pooya-shams</a>,\n",
       " <a class=\"rated-user user-violet\" href=\"/profile/Arnch\" title=\"Candidate Master Arnch\">Arnch</a>,\n",
       " <a class=\"rated-user user-blue\" href=\"/profile/Kahou\" title=\"Expert Kahou\">Kahou</a>,\n",
       " <a class=\"rated-user user-cyan\" href=\"/profile/mosaev\" title=\"Specialist mosaev\">mosaev</a>,\n",
       " <a class=\"rated-user user-green\" href=\"/profile/radiohead\" title=\"Pupil radiohead\">radiohead</a>,\n",
       " <a class=\"rated-user user-admin\" href=\"/profile/MikeMirzayanov\" title=\"Headquarters, MikeMirzayanov\">MikeMirzayanov</a>,\n",
       " <a href=\"https://near.org/\">NEAR</a>,\n",
       " <a href=\"https://codeforces.com/blog/entry/101398\">this post</a>,\n",
       " <a href=\"https://codeforces.com/blog/entry/103952\">Editorial</a>,\n",
       " <a href=\"/blog/entry/103892\">Read more »</a>,\n",
       " <a class=\"notice\" href=\"/contest/1693\" style=\"text-decoration: none;\">Codeforces Round #800 (Div. 1)</a>,\n",
       " <a class=\"notice\" href=\"/contest/1694\" style=\"text-decoration: none;\">Codeforces Round #800 (Div. 2)</a>,\n",
       " <a class=\"topic-vote-up-104511\" href=\"#\"><img alt=\"Vote: I like it\" src=\"//cdn.codeforces.com/s/42322/images/actions/voteup.png\" style=\"vertical-align:middle;position:relative;top:-0.2em\" title=\"Vote: I like it\"/></a>,\n",
       " <a class=\"topic-vote-down-104511\" href=\"#\"><img alt=\"Vote: I do not like it\" src=\"//cdn.codeforces.com/s/42322/images/actions/votedown.png\" style=\"vertical-align:middle;position:relative;top:-0.2em\" title=\"Vote: I do not like it\"/></a>,\n",
       " <a href=\"/profile/AmShZ\"><img alt=\"Author\" src=\"//cdn.codeforces.com/s/42322/images/blog/user_16x16.png\" style=\"vertical-align:middle;position:relative;top:-1px\" title=\"Author\"/></a>,\n",
       " <a href=\"/profile/AmShZ\">\n",
       "         AmShZ\n",
       "         </a>,\n",
       " <a href=\"/blog/entry/103892#comments\"><img alt=\"Comments\" src=\"//cdn.codeforces.com/s/42322/images/blog/comments_16x16.png\" style=\"vertical-align:middle;position:relative;top:-1px\" title=\"Comments\"/></a>,\n",
       " <a href=\"/blog/entry/103892#comments\">\n",
       "         235\n",
       "         </a>,\n",
       " <a href=\"/blog/entry/103784\"> <p>Looking For EDU Lecturers</p>\n",
       " </a>,\n",
       " <a class=\"rated-user user-admin\" href=\"/profile/MikeMirzayanov\" title=\"Headquarters, MikeMirzayanov\">MikeMirzayanov</a>,\n",
       " <a href=\"https://codeforces.com/edu/courses\">EDU</a>,\n",
       " <a href=\"https://codeforces.com/userForm/7684f06b9b0a17e4\" style=\"text-decoration: none;font-size: 16.0px;background-color: rgb(41,121,255);color: white;font-weight: bold;padding: 0.5em 1.0em;\">Apply →</a>,\n",
       " <a href=\"/blog/entry/103784\">Read more »</a>,\n",
       " <a class=\"tag notice\" href=\"/search?query=edu\" style=\"text-decoration: none;\">edu</a>,\n",
       " <a class=\"tag notice\" href=\"/search?query=codeforces\" style=\"text-decoration: none;\">codeforces</a>,\n",
       " <a class=\"topic-vote-up-104403\" href=\"#\"><img alt=\"Vote: I like it\" src=\"//cdn.codeforces.com/s/42322/images/actions/voteup.png\" style=\"vertical-align:middle;position:relative;top:-0.2em\" title=\"Vote: I like it\"/></a>,\n",
       " <a class=\"topic-vote-down-104403\" href=\"#\"><img alt=\"Vote: I do not like it\" src=\"//cdn.codeforces.com/s/42322/images/actions/votedown.png\" style=\"vertical-align:middle;position:relative;top:-0.2em\" title=\"Vote: I do not like it\"/></a>,\n",
       " <a href=\"/profile/MikeMirzayanov\"><img alt=\"Author\" src=\"//cdn.codeforces.com/s/42322/images/blog/user_16x16.png\" style=\"vertical-align:middle;position:relative;top:-1px\" title=\"Author\"/></a>,\n",
       " <a href=\"/profile/MikeMirzayanov\">\n",
       "         MikeMirzayanov\n",
       "         </a>,\n",
       " <a href=\"/blog/entry/103784#comments\"><img alt=\"Comments\" src=\"//cdn.codeforces.com/s/42322/images/blog/comments_16x16.png\" style=\"vertical-align:middle;position:relative;top:-1px\" title=\"Comments\"/></a>,\n",
       " <a href=\"/blog/entry/103784#comments\">\n",
       "         59\n",
       "         </a>,\n",
       " <a href=\"/blog/entry/103792\"> <p>Codeforces Round #799 (Div. 4)</p>\n",
       " </a>,\n",
       " <a class=\"rated-user user-blue\" href=\"/profile/SlavicG\" title=\"Expert SlavicG\">SlavicG</a>,\n",
       " <a class=\"rated-user user-blue\" href=\"/profile/mesanu\" title=\"Expert mesanu\">mesanu</a>,\n",
       " <a class=\"rated-user user-violet\" href=\"/profile/flamestorm\" title=\"Candidate Master flamestorm\">flamestorm</a>,\n",
       " <a class=\"rated-user user-admin\" href=\"/profile/MikeMirzayanov\" title=\"Headquarters, MikeMirzayanov\">MikeMirzayanov</a>,\n",
       " <a href=\"/contest/1692\" title=\"Codeforces Round 799 (Div. 4)\">Codeforces Round #799 (Div. 4)</a>,\n",
       " <a class=\"contest-time\" contestid=\"1692\" href=\"https://www.timeanddate.com/worldclock/fixedtime.html?day=14&amp;month=6&amp;year=2022&amp;hour=17&amp;min=35&amp;sec=0&amp;p1=166\"><span class=\"format-time-with-dow\">Jun/14/2022 17:35 (Moscow time)</span></a>,\n",
       " <a class=\"rated-user user-gray\" href=\"/profile/Neophiliatic\" title=\"Newbie Neophiliatic\">Neophiliatic</a>,\n",
       " <a class=\"rated-user user-green\" href=\"/profile/Qualified\" title=\"Pupil Qualified\">Qualified</a>,\n",
       " <a class=\"rated-user user-cyan\" href=\"/profile/sandry24\" title=\"Specialist sandry24\">sandry24</a>,\n",
       " <a class=\"rated-user user-cyan\" href=\"/profile/_Anurag\" title=\"Specialist _Anurag\">_Anurag</a>,\n",
       " <a class=\"rated-user user-blue\" href=\"/profile/jampm\" title=\"Expert jampm\">jampm</a>,\n",
       " <a class=\"rated-user user-blue\" href=\"/profile/TimDee\" title=\"Expert TimDee\">TimDee</a>,\n",
       " <a class=\"rated-user user-blue\" href=\"/profile/Olympia\" title=\"Expert Olympia\">Olympia</a>,\n",
       " <a class=\"rated-user user-violet\" href=\"/profile/MoonKnight.\" title=\"Candidate Master MoonKnight.\">MoonKnight.</a>,\n",
       " <a class=\"rated-user user-orange\" href=\"/profile/AlperenT\" title=\"Master AlperenT\">AlperenT</a>,\n",
       " <a class=\"rated-user user-orange\" href=\"/profile/BucketPotato\" title=\"International Master BucketPotato\">BucketPotato</a>,\n",
       " <a class=\"rated-user user-blue\" href=\"/profile/_Vanilla_\" title=\"Expert _Vanilla_\">_Vanilla_</a>,\n",
       " <a href=\"https://near.org/\">NEAR</a>,\n",
       " <a href=\"https://codeforces.com/blog/entry/101398\">this post</a>,\n",
       " <a href=\"https://codeforces.com/blog/entry/103883\">Editorial</a>,\n",
       " <a href=\"/blog/entry/103792\">Read more »</a>,\n",
       " <a class=\"notice\" href=\"/contest/1692\" style=\"text-decoration: none;\">Codeforces Round #799 (Div. 4)</a>,\n",
       " <a class=\"topic-vote-up-104411\" href=\"#\"><img alt=\"Vote: I like it\" src=\"//cdn.codeforces.com/s/42322/images/actions/voteup.png\" style=\"vertical-align:middle;position:relative;top:-0.2em\" title=\"Vote: I like it\"/></a>,\n",
       " <a class=\"topic-vote-down-104411\" href=\"#\"><img alt=\"Vote: I do not like it\" src=\"//cdn.codeforces.com/s/42322/images/actions/votedown.png\" style=\"vertical-align:middle;position:relative;top:-0.2em\" title=\"Vote: I do not like it\"/></a>,\n",
       " <a href=\"/profile/SlavicG\"><img alt=\"Author\" src=\"//cdn.codeforces.com/s/42322/images/blog/user_16x16.png\" style=\"vertical-align:middle;position:relative;top:-1px\" title=\"Author\"/></a>,\n",
       " <a href=\"/profile/SlavicG\">\n",
       "         SlavicG\n",
       "         </a>,\n",
       " <a href=\"/blog/entry/103792#comments\"><img alt=\"Comments\" src=\"//cdn.codeforces.com/s/42322/images/blog/comments_16x16.png\" style=\"vertical-align:middle;position:relative;top:-1px\" title=\"Comments\"/></a>,\n",
       " <a href=\"/blog/entry/103792#comments\">\n",
       "         262\n",
       "         </a>,\n",
       " <a href=\"/blog/entry/103746\"> <p>Educational Codeforces Round 130 [Rated for Div. 2]</p>\n",
       " </a>,\n",
       " <a class=\"rated-user user-red\" href=\"/profile/awoo\" title=\"Grandmaster awoo\">awoo</a>,\n",
       " <a href=\"/topic/104365/en6\">history</a>,\n",
       " <a class=\"contest-time\" contestid=\"1697\" href=\"https://www.timeanddate.com/worldclock/fixedtime.html?day=12&amp;month=6&amp;year=2022&amp;hour=17&amp;min=35&amp;sec=0&amp;p1=166\"><span class=\"format-time-with-dow\">Jun/12/2022 17:35 (Moscow time)</span></a>,\n",
       " <a href=\"/contest/1697\" title=\"Educational Codeforces Round 130 (Rated for Div. 2)\">Educational Codeforces Round 130 (Rated for Div. 2)</a>,\n",
       " <a href=\"https://harbour.space/\">Harbour.Space University</a>,\n",
       " <a href=\"https://harbour.space/\">Harbour.Space University</a>,\n",
       " <a href=\"//codeforces.com/blog/entry/51208\">blog post</a>,\n",
       " <a class=\"rated-user user-orange\" href=\"/profile/adedalic\" title=\"International Master adedalic\">adedalic</a>,\n",
       " <a class=\"rated-user user-orange\" href=\"/profile/vovuh\" title=\"Master vovuh\">vovuh</a>,\n",
       " <a class=\"rated-user user-red\" href=\"/profile/BledDest\" title=\"International Grandmaster BledDest\">BledDest</a>,\n",
       " <a class=\"rated-user user-violet\" href=\"/profile/Neon\" title=\"Candidate Master Neon\">Neon</a>,\n",
       " <a class=\"rated-user user-admin\" href=\"/profile/MikeMirzayanov\" title=\"Headquarters, MikeMirzayanov\">MikeMirzayanov</a>,\n",
       " <a href=\"https://www.vodafone.com/\">Vodafone Group</a>,\n",
       " <a href=\"https://harbour.space/\">Harbour.Space University</a>,\n",
       " <a href=\"https://harbour.space/scholarships/java-developer-apprenticeship-vodafone?utm_source=codeforces&amp;utm_medium=partner&amp;utm_campaign=bcn_b2b_voafone-apprenticeship\" style=\"text-decoration: none;font-size: 16.0px;background-color: rgb(82,57,150);color: white;font-weight: bold;padding: 0.5em 1.0em;\"> APPLY NOW →</a>,\n",
       " <a href=\"https://codeforces.com/blog/entry/103835\">Editorial is out</a>,\n",
       " <a href=\"/blog/entry/103746\">Read more »</a>,\n",
       " <a class=\"notice\" href=\"/contest/1697\" style=\"text-decoration: none;\">Educational Codeforces Round 130 (Rated for Div. 2)</a>,\n",
       " <a class=\"topic-vote-up-104365\" href=\"#\"><img alt=\"Vote: I like it\" src=\"//cdn.codeforces.com/s/42322/images/actions/voteup.png\" style=\"vertical-align:middle;position:relative;top:-0.2em\" title=\"Vote: I like it\"/></a>,\n",
       " <a class=\"topic-vote-down-104365\" href=\"#\"><img alt=\"Vote: I do not like it\" src=\"//cdn.codeforces.com/s/42322/images/actions/votedown.png\" style=\"vertical-align:middle;position:relative;top:-0.2em\" title=\"Vote: I do not like it\"/></a>,\n",
       " <a href=\"/profile/awoo\"><img alt=\"Author\" src=\"//cdn.codeforces.com/s/42322/images/blog/user_16x16.png\" style=\"vertical-align:middle;position:relative;top:-1px\" title=\"Author\"/></a>,\n",
       " <a href=\"/profile/awoo\">\n",
       "         awoo\n",
       "         </a>,\n",
       " <a href=\"/blog/entry/103746#comments\"><img alt=\"Comments\" src=\"//cdn.codeforces.com/s/42322/images/blog/comments_16x16.png\" style=\"vertical-align:middle;position:relative;top:-1px\" title=\"Comments\"/></a>,\n",
       " <a href=\"/blog/entry/103746#comments\">\n",
       "         319\n",
       "         </a>,\n",
       " <a href=\"/page/1\">1</a>,\n",
       " <a href=\"/page/2\">2</a>,\n",
       " <a href=\"/page/3\">3</a>,\n",
       " <a href=\"/page/201\">201</a>,\n",
       " <a href=\"/page/202\">202</a>,\n",
       " <a class=\"arrow\" href=\"/page/2\">→</a>,\n",
       " <a href=\"http://codeforces.com/\">Codeforces</a>,\n",
       " <a class=\"switchToMobile\" href=\"?mobile=true\" rel=\"nofollow\">mobile version</a>,\n",
       " <a href=\"/privacy\">Privacy Policy</a>,\n",
       " <a href=\"https://telegram.org/\"><img alt=\"Telegram\" src=\"//cdn.codeforces.com/s/42322/images/telegram-100x100.png\" style=\"margin-right: 2em; width: 60px;\" title=\"Telegram\"/></a>,\n",
       " <a href=\"http://ifmo.ru/en/\"><img alt=\"ИТМО\" src=\"//cdn.codeforces.com/s/42322/images/itmo_small_en-logo.png\" style=\"width: 120px;\" title=\"ИТМО\"/></a>]"
      ]
     },
     "execution_count": 92,
     "metadata": {},
     "output_type": "execute_result"
    }
   ],
   "source": [
    "all_as = soub.find_all(\"a\")\n",
    "all_as"
   ]
  },
  {
   "cell_type": "code",
   "execution_count": 93,
   "metadata": {},
   "outputs": [
    {
     "name": "stdout",
     "output_type": "stream",
     "text": [
      "http://codeforces.com/\n",
      "http://codeforces.com?locale=en\n",
      "http://codeforces.com?locale=ru\n",
      "http://codeforces.com/enter?back=%2F\n",
      "http://codeforces.com/register\n",
      "http://codeforces.com/\n",
      "http://codeforces.com/top\n",
      "http://codeforces.com/catalog\n",
      "http://codeforces.com/contests\n",
      "http://codeforces.com/gyms\n",
      "http://codeforces.com/problemset\n",
      "http://codeforces.com/groups\n",
      "http://codeforces.com/ratings\n",
      "http://codeforces.com/edu/courses\n",
      "http://codeforces.com/apiHelp\n",
      "http://codeforces.com/calendar\n",
      "http://codeforces.com/help\n",
      "http://codeforces.com/contests/1701\n",
      "http://codeforces.com/profile/tourist\n",
      "http://codeforces.com/profile/jiangly\n",
      "http://codeforces.com/profile/Um_nik\n",
      "http://codeforces.com/profile/Benq\n",
      "http://codeforces.com/profile/ksun48\n",
      "http://codeforces.com/profile/MiracleFaFa\n",
      "http://codeforces.com/profile/slime\n",
      "http://codeforces.com/profile/maroonrk\n",
      "http://codeforces.com/profile/Radewoosh\n",
      "http://codeforces.com/profile/greenheadstrange\n",
      "http://codeforces.com/ratings/countries\n",
      "http://codeforces.com/ratings/cities\n",
      "http://codeforces.com/ratings/organizations\n",
      "http://codeforces.com/ratings\n",
      "http://codeforces.com/profile/awoo\n",
      "http://codeforces.com/profile/YouKn0wWho\n",
      "http://codeforces.com/profile/-is-this-fft-\n",
      "http://codeforces.com/profile/Um_nik\n",
      "http://codeforces.com/profile/Monogon\n",
      "http://codeforces.com/profile/antontrygubO_o\n",
      "http://codeforces.com/profile/maroonrk\n",
      "http://codeforces.com/profile/adamant\n",
      "http://codeforces.com/profile/SecondThread\n",
      "http://codeforces.com/profile/SlavicG\n",
      "http://codeforces.com/top-contributed\n",
      "http://codeforces.com/profile/AmirElarbi\n",
      "http://codeforces.com/blog/entry/104542\n",
      "http://codeforces.com/profile/To_catch_a_cheater\n",
      "http://codeforces.com/blog/entry/104525\n",
      "http://codeforces.com/profile/cadmiumky\n",
      "http://codeforces.com/blog/entry/103966\n",
      "http://codeforces.com/profile/feecIe6418\n",
      "http://codeforces.com/blog/entry/103479\n",
      "http://codeforces.com/profile/Gheal\n",
      "http://codeforces.com/blog/entry/104088\n",
      "http://codeforces.com/profile/Al.Cash\n",
      "http://codeforces.com/blog/entry/18051\n",
      "http://codeforces.com/profile/MaiHiHuOriginalRakesh\n",
      "http://codeforces.com/blog/entry/104540\n",
      "http://codeforces.com/profile/swarup_312\n",
      "http://codeforces.com/blog/entry/104541\n",
      "http://codeforces.com/profile/flamestorm\n",
      "http://codeforces.com/blog/entry/103883\n",
      "http://codeforces.com/profile/celestialidiot\n",
      "http://codeforces.com/blog/entry/104471\n",
      "http://codeforces.com/profile/ilyakrasnovv\n",
      "http://codeforces.com/blog/entry/100208\n",
      "http://codeforces.com/profile/SAT2020\n",
      "http://codeforces.com/blog/entry/104468\n",
      "http://codeforces.com/profile/Yashraj1402\n",
      "http://codeforces.com/blog/entry/104538\n",
      "http://codeforces.com/profile/Yukuk\n",
      "http://codeforces.com/blog/entry/90815\n",
      "http://codeforces.com/profile/MikeMirzayanov\n",
      "http://codeforces.com/blog/entry/8790\n",
      "http://codeforces.com/profile/brobat\n",
      "http://codeforces.com/blog/entry/104535\n",
      "http://codeforces.com/profile/Newtech66\n",
      "http://codeforces.com/blog/entry/100938\n",
      "http://codeforces.com/profile/just_a_smallfry\n",
      "http://codeforces.com/blog/entry/104536\n",
      "http://codeforces.com/profile/giga_chad\n",
      "http://codeforces.com/blog/entry/104397\n",
      "http://codeforces.com/profile/Kvschauhan\n",
      "http://codeforces.com/blog/entry/104496\n",
      "http://codeforces.com/profile/xyz2606\n",
      "http://codeforces.com/blog/entry/89968\n",
      "http://codeforces.com/profile/flamestorm\n",
      "http://codeforces.com/blog/entry/104259\n",
      "http://codeforces.com/profile/flamestorm\n",
      "http://codeforces.com/blog/entry/104310\n",
      "http://codeforces.com/profile/Ilovefootball\n",
      "http://codeforces.com/blog/entry/104527\n",
      "http://codeforces.com/profile/nyilinhtwe\n",
      "http://codeforces.com/blog/entry/91618\n",
      "http://codeforces.com/recent-actions\n",
      "http://codeforces.com/blog/entry/103966\n",
      "http://codeforces.com/profile/cadmiumky\n",
      "http://codeforces.com/topic/104586/en74\n",
      "http://codeforces.comhttps://codeforces.com/blog/entry/103966\n",
      "http://codeforces.comhttps://www.timeanddate.com/worldclock/fixedtime.html?day=4&month=7&year=2022&hour=17&min=35&sec=0&p1=166\n",
      "http://codeforces.com/profile/Gheal\n",
      "http://codeforces.com/profile/tibinyte\n",
      "http://codeforces.com/profile/cadmiumky\n",
      "http://codeforces.com/profile/Um_nik\n",
      "http://codeforces.com/profile/antontrygubO_o\n",
      "http://codeforces.com/profile/BlueDiamond\n",
      "http://codeforces.com/profile/lucaperju\n",
      "http://codeforces.com/profile/atodo\n",
      "http://codeforces.com/profile/LucaIlie\n",
      "http://codeforces.com/profile/borgar02\n",
      "http://codeforces.com/profile/freak93\n",
      "http://codeforces.com/profile/Ionut_Padurariu\n",
      "http://codeforces.com/profile/Lemur95\n",
      "http://codeforces.com/profile/FairyWinx\n",
      "http://codeforces.com/profile/Brodicico\n",
      "http://codeforces.com/profile/apostoldaniel854\n",
      "http://codeforces.com/profile/Kirill22\n",
      "http://codeforces.com/profile/Olympia\n",
      "http://codeforces.com/profile/lavish315\n",
      "http://codeforces.com/profile/Kuroni\n",
      "http://codeforces.com/profile/caheman\n",
      "http://codeforces.com/profile/theodor.moroianu\n",
      "http://codeforces.com/profile/TheScrasse\n",
      "http://codeforces.com/profile/mhq\n",
      "http://codeforces.com/profile/VELJAODI\n",
      "http://codeforces.com/profile/Tudy006\n",
      "http://codeforces.com/profile/stefdasca\n",
      "http://codeforces.com/profile/CaesarPP\n",
      "http://codeforces.com/profile/Fanurie\n",
      "http://codeforces.com/profile/elizatoma000w\n",
      "http://codeforces.com/profile/mat50013\n",
      "http://codeforces.com/profile/IacobTudor\n",
      "http://codeforces.com/profile/codrincrismariu\n",
      "http://codeforces.com/profile/Matteo.Verz\n",
      "http://codeforces.com/profile/mircea_007\n",
      "http://codeforces.com/profile/amcbn\n",
      "http://codeforces.com/profile/mihneacazan\n",
      "http://codeforces.com/profile/armand09\n",
      "http://codeforces.com/profile/Artyom123\n",
      "http://codeforces.com/profile/intrusiv\n",
      "http://codeforces.com/profile/tibinyte\n",
      "http://codeforces.com/profile/Gheal\n",
      "http://codeforces.com/profile/lucaperju\n",
      "http://codeforces.com/profile/VELJAODI\n",
      "http://codeforces.com/profile/Artyom123\n",
      "http://codeforces.com/profile/antontrygubO_o\n",
      "http://codeforces.comhttps://near.org/\n",
      "http://codeforces.comhttps://codeforces.com/blog/entry/101398\n",
      "http://codeforces.com/profile/MikeMirzayanov\n",
      "http://codeforces.comhttps://codeforces.com/blog/entry/104088\n",
      "http://codeforces.com/profile/First_Brave_Niuniu\n",
      "http://codeforces.com/profile/fAKelyh\n",
      "http://codeforces.com/profile/ifzw\n",
      "http://codeforces.com/profile/H_stove\n",
      "http://codeforces.com/profile/Remakee\n",
      "http://codeforces.com/profile/SSRS_\n",
      "http://codeforces.com/profile/heno239\n",
      "http://codeforces.com/profile/jiangly\n",
      "http://codeforces.com/profile/MeliodasIRA\n",
      "http://codeforces.com/profile/noimi\n",
      "http://codeforces.com/blog/entry/103966\n",
      "http://codeforces.com/contest/1699\n",
      "http://codeforces.com#\n",
      "http://codeforces.com#\n",
      "http://codeforces.com/profile/cadmiumky\n",
      "http://codeforces.com/profile/cadmiumky\n",
      "http://codeforces.com/blog/entry/103966#comments\n",
      "http://codeforces.com/blog/entry/103966#comments\n",
      "http://codeforces.com/blog/entry/104485\n",
      "http://codeforces.com/profile/Harbour.Space\n",
      "http://codeforces.com/topic/105105/en2\n",
      "http://codeforces.comhttps://harbour.space/register\n",
      "http://codeforces.comhttps://www.leaguesofcode.com/\n",
      "http://codeforces.com/profile/mhq\n",
      "http://codeforces.com/profile/MaksymOboznyi\n",
      "http://codeforces.com/profile/pashka\n",
      "http://codeforces.comhttps://summer-camp.leaguesofcode.com?utm_source=codeforces&utm_medium=partner&utm_campaign=summer_camp\n",
      "http://codeforces.com/blog/entry/104485\n",
      "http://codeforces.com#\n",
      "http://codeforces.com#\n",
      "http://codeforces.com/profile/Harbour.Space\n",
      "http://codeforces.com/profile/Harbour.Space\n",
      "http://codeforces.com/blog/entry/104485#comments\n",
      "http://codeforces.com/blog/entry/104485#comments\n",
      "http://codeforces.com/blog/entry/104259\n",
      "http://codeforces.com/profile/flamestorm\n",
      "http://codeforces.com/profile/ScarletS\n",
      "http://codeforces.com/contest/1698\n",
      "http://codeforces.comhttps://www.timeanddate.com/worldclock/fixedtime.html?day=28&month=6&year=2022&hour=17&min=35&sec=0&p1=166\n",
      "http://codeforces.com/profile/errorgorn\n",
      "http://codeforces.com/profile/MikeMirzayanov\n",
      "http://codeforces.com/profile/KAN\n",
      "http://codeforces.com/profile/antontrygubO_o\n",
      "http://codeforces.com/profile/AmShZ\n",
      "http://codeforces.com/profile/Sexpert\n",
      "http://codeforces.com/profile/MagentaCobra\n",
      "http://codeforces.com/profile/AlperenT\n",
      "http://codeforces.com/profile/satyam_343\n",
      "http://codeforces.com/profile/Vladithur\n",
      "http://codeforces.com/profile/polarity-\n",
      "http://codeforces.com/profile/fishy15\n",
      "http://codeforces.com/profile/epicxtroll\n",
      "http://codeforces.com/profile/Surprise_Me\n",
      "http://codeforces.com/profile/jampm\n",
      "http://codeforces.com/profile/Yangster\n",
      "http://codeforces.com/profile/Il9\n",
      "http://codeforces.com/profile/ak2006\n",
      "http://codeforces.com/profile/FionnKimberOShea\n",
      "http://codeforces.com/profile/Codula\n",
      "http://codeforces.com/profile/bakekaga\n",
      "http://codeforces.comhttps://near.org/\n",
      "http://codeforces.comhttps://codeforces.com/blog/entry/101398\n",
      "http://codeforces.comhttps://codeforces.com/blog/entry/45307\n",
      "http://codeforces.comhttps://codeforces.com/blog/entry/104310\n",
      "http://codeforces.com/blog/entry/104259\n",
      "http://codeforces.com/contest/1698\n",
      "http://codeforces.com/search?query=surang-fan-club\n",
      "http://codeforces.com/search?query=803\n",
      "http://codeforces.com/search?query=deja-vu\n",
      "http://codeforces.com#\n",
      "http://codeforces.com#\n",
      "http://codeforces.com/profile/flamestorm\n",
      "http://codeforces.com/profile/flamestorm\n",
      "http://codeforces.com/blog/entry/104259#comments\n",
      "http://codeforces.com/blog/entry/104259#comments\n",
      "http://codeforces.com/blog/entry/104159\n",
      "http://codeforces.com/profile/feecIe6418\n",
      "http://codeforces.comhttps://www.timeanddate.com/worldclock/fixedtime.html?day=25&month=6&year=2022&hour=17&min=35&sec=0&p1=166\n",
      "http://codeforces.com/contest/1696\n",
      "http://codeforces.comhttps://codeforces.com/blog/entry/65002\n",
      "http://codeforces.comhttps://pastebin.com/QT5sXEaT\n",
      "http://codeforces.com/profile/gyh20\n",
      "http://codeforces.com/profile/irkstepanov\n",
      "http://codeforces.com/profile/KAN\n",
      "http://codeforces.com/profile/gyh20\n",
      "http://codeforces.com/profile/miepu\n",
      "http://codeforces.com/profile/ilyakrasnovv\n",
      "http://codeforces.com/profile/fengzhengwei\n",
      "http://codeforces.com/profile/Vladithur\n",
      "http://codeforces.com/profile/antontrygubO_o\n",
      "http://codeforces.com/profile/Golovanov399\n",
      "http://codeforces.com/profile/dbsic211\n",
      "http://codeforces.com/profile/ak2006\n",
      "http://codeforces.com/profile/MikeMirzayanov\n",
      "http://codeforces.comhttps://codeforces.com/blog/entry/103479\n",
      "http://codeforces.com/profile/ksun48\n",
      "http://codeforces.com/profile/jiangly\n",
      "http://codeforces.com/profile/Um_nik\n",
      "http://codeforces.com/profile/Petr\n",
      "http://codeforces.com/profile/maroonrk\n",
      "http://codeforces.com/blog/entry/104159\n",
      "http://codeforces.com/contest/1696\n",
      "http://codeforces.com#\n",
      "http://codeforces.com#\n",
      "http://codeforces.com/profile/feecIe6418\n",
      "http://codeforces.com/profile/feecIe6418\n",
      "http://codeforces.com/blog/entry/104159#comments\n",
      "http://codeforces.com/blog/entry/104159#comments\n",
      "http://codeforces.com/blog/entry/103977\n",
      "http://codeforces.com/profile/ch_egor\n",
      "http://codeforces.com/profile/GlebsHP\n",
      "http://codeforces.com/profile/ch_egor\n",
      "http://codeforces.com/profile/Endagorion\n",
      "http://codeforces.com/profile/vintage_Vlad_Makeev\n",
      "http://codeforces.com/profile/Zlobober\n",
      "http://codeforces.com/profile/meshanya\n",
      "http://codeforces.com/profile/cdkrot\n",
      "http://codeforces.com/profile/voidmax\n",
      "http://codeforces.com/profile/grphil\n",
      "http://codeforces.com/profile/fedoseev.timofey\n",
      "http://codeforces.comhttps://www.timeanddate.com/worldclock/fixedtime.html?day=19&month=6&year=2022&hour=12&min=5&sec=0&p1=166\n",
      "http://codeforces.comhttps://codeforces.com/blog/entry/21185\n",
      "http://codeforces.comhttps://codeforces.com/blog/entry/23309\n",
      "http://codeforces.comhttps://codeforces.com/blog/entry/43615\n",
      "http://codeforces.comhttps://codeforces.com/blog/entry/47769\n",
      "http://codeforces.comhttps://codeforces.com/blog/entry/50613\n",
      "http://codeforces.comhttps://codeforces.com/blog/entry/54350\n",
      "http://codeforces.comhttps://codeforces.com/blog/entry/55201\n",
      "http://codeforces.comhttps://codeforces.com/blog/entry/57981\n",
      "http://codeforces.comhttps://codeforces.com/blog/entry/58229\n",
      "http://codeforces.comhttps://codeforces.com/blog/entry/61638\n",
      "http://codeforces.comhttps://codeforces.com/blog/entry/62440\n",
      "http://codeforces.comhttps://codeforces.com/blog/entry/65433\n",
      "http://codeforces.comhttps://codeforces.com/blog/entry/65768\n",
      "http://codeforces.comhttps://codeforces.com/blog/entry/67703\n",
      "http://codeforces.comhttps://codeforces.com/blog/entry/69538\n",
      "http://codeforces.comhttps://codeforces.com/blog/entry/70680\n",
      "http://codeforces.comhttps://codeforces.com/blog/entry/74106\n",
      "http://codeforces.comhttps://codeforces.com/blog/entry/52457\n",
      "http://codeforces.comhttps://codeforces.com/blog/entry/80214\n",
      "http://codeforces.comhttps://codeforces.com/blog/entry/84198\n",
      "http://codeforces.comhttps://codeforces.com/blog/entry/87791\n",
      "http://codeforces.comhttps://codeforces.com/blog/entry/88590\n",
      "http://codeforces.comhttps://codeforces.com/blog/entry/91905\n",
      "http://codeforces.comhttps://codeforces.com/blog/entry/95864\n",
      "http://codeforces.comhttps://codeforces.com/blog/entry/100591\n",
      "http://codeforces.com/profile/Siberian\n",
      "http://codeforces.com/profile/_overrated_\n",
      "http://codeforces.com/profile/Igorbunov\n",
      "http://codeforces.com/profile/Ziware\n",
      "http://codeforces.com/profile/_tryhard\n",
      "http://codeforces.com/profile/EntitledMonkey\n",
      "http://codeforces.com/profile/fedoseev.timofey\n",
      "http://codeforces.com/profile/74TrAkToR\n",
      "http://codeforces.com/profile/MikeMirzayanov\n",
      "http://codeforces.comhttps://tinkoff.ru\n",
      "http://codeforces.com/profile/TKolinkova\n",
      "http://codeforces.comhttps://near.org/\n",
      "http://codeforces.comhttps://codeforces.com/blog/entry/101398\n",
      "http://codeforces.com/profile/Um_nik\n",
      "http://codeforces.com/profile/mhq\n",
      "http://codeforces.com/profile/MichsSS\n",
      "http://codeforces.com/profile/kucipendik\n",
      "http://codeforces.com/profile/TeaTime\n",
      "http://codeforces.com/profile/devid\n",
      "http://codeforces.com/profile/Mangooste\n",
      "http://codeforces.com/profile/teacherone\n",
      "http://codeforces.com/profile/zsxdcfv\n",
      "http://codeforces.com/profile/AndrescuIII\n",
      "http://codeforces.com/profile/rhzmydd\n",
      "http://codeforces.com/profile/Yuki991\n",
      "http://codeforces.com/profile/SSRS_\n",
      "http://codeforces.com/profile/noimi\n",
      "http://codeforces.com/profile/Fysty\n",
      "http://codeforces.com/profile/peti1234\n",
      "http://codeforces.com/profile/teacherone\n",
      "http://codeforces.comhttps://codeforces.com/blog/entry/103978\n",
      "http://codeforces.com/blog/entry/103977\n",
      "http://codeforces.com/contest/1700\n",
      "http://codeforces.com/search?query=%23802\n",
      "http://codeforces.com/search?query=%23round\n",
      "http://codeforces.com#\n",
      "http://codeforces.com#\n",
      "http://codeforces.com/profile/ch_egor\n",
      "http://codeforces.com/profile/ch_egor\n",
      "http://codeforces.com/blog/entry/103977#comments\n",
      "http://codeforces.com/blog/entry/103977#comments\n",
      "http://codeforces.com/blog/entry/103955\n",
      "http://codeforces.com/profile/jdurie\n",
      "http://codeforces.comhttps://epic-institute.io/\n",
      "http://codeforces.com/contest/1695\n",
      "http://codeforces.comhttps://www.timeanddate.com/worldclock/fixedtime.html?day=18&month=6&year=2022&hour=17&min=35&sec=0&p1=166\n",
      "http://codeforces.com/profile/ki0apa\n",
      "http://codeforces.com/profile/akifpatel\n",
      "http://codeforces.com/profile/antontrygubO_o\n",
      "http://codeforces.com/profile/18o3\n",
      "http://codeforces.com/profile/bobbilyking\n",
      "http://codeforces.com/profile/brunovsky\n",
      "http://codeforces.com/profile/BucketPotato\n",
      "http://codeforces.com/profile/dbaumg\n",
      "http://codeforces.com/profile/fishy15\n",
      "http://codeforces.com/profile/jonathanh8686\n",
      "http://codeforces.com/profile/Max_Calincu\n",
      "http://codeforces.com/profile/mhq\n",
      "http://codeforces.com/profile/naman1601\n",
      "http://codeforces.com/profile/richardkyu\n",
      "http://codeforces.com/profile/rivalq\n",
      "http://codeforces.com/profile/satyam_343\n",
      "http://codeforces.com/profile/timreizin\n",
      "http://codeforces.com/profile/Vladik\n",
      "http://codeforces.com/profile/vilcheuski\n",
      "http://codeforces.com/profile/MikeMirzayanov\n",
      "http://codeforces.comhttps://codeforces.com/blog/entry/103996\n",
      "http://codeforces.comhttps://codeforces.com/blog/entry/102993\n",
      "http://codeforces.comhttps://deltix.io/about-us.html\n",
      "http://codeforces.comhttps://www.epam.com/about\n",
      "http://codeforces.comhttps://epic-institute.io/\n",
      "http://codeforces.comhttps://t.me/+5i_i0m3VUks3NDFi\n",
      "http://codeforces.comhttps://epic-institute.io/programmes-overview/\n",
      "http://codeforces.com/blog/entry/103955\n",
      "http://codeforces.com/contest/1695\n",
      "http://codeforces.com/search?query=epic\n",
      "http://codeforces.com/search?query=801\n",
      "http://codeforces.com#\n",
      "http://codeforces.com#\n",
      "http://codeforces.com/profile/jdurie\n",
      "http://codeforces.com/profile/jdurie\n",
      "http://codeforces.com/blog/entry/103955#comments\n",
      "http://codeforces.com/blog/entry/103955#comments\n",
      "http://codeforces.com/blog/entry/103892\n",
      "http://codeforces.com/profile/AmShZ\n",
      "http://codeforces.com/profile/Keshi\n",
      "http://codeforces.com/profile/alireza_kaviani\n",
      "http://codeforces.com/contest/1693\n",
      "http://codeforces.com/contest/1694\n",
      "http://codeforces.comhttps://www.timeanddate.com/worldclock/fixedtime.html?day=16&month=6&year=2022&hour=17&min=35&sec=0&p1=166\n",
      "http://codeforces.com/profile/antontrygubO_o\n",
      "http://codeforces.com/profile/Um_nik\n",
      "http://codeforces.com/profile/errorgorn\n",
      "http://codeforces.com/profile/Koosha_Mv\n",
      "http://codeforces.com/profile/irkstepanov\n",
      "http://codeforces.com/profile/ArchUser84\n",
      "http://codeforces.com/profile/sohsoh\n",
      "http://codeforces.com/profile/fatemetmhr\n",
      "http://codeforces.com/profile/Dorost\n",
      "http://codeforces.com/profile/nor\n",
      "http://codeforces.com/profile/pooya-shams\n",
      "http://codeforces.com/profile/Arnch\n",
      "http://codeforces.com/profile/Kahou\n",
      "http://codeforces.com/profile/mosaev\n",
      "http://codeforces.com/profile/radiohead\n",
      "http://codeforces.com/profile/MikeMirzayanov\n",
      "http://codeforces.comhttps://near.org/\n",
      "http://codeforces.comhttps://codeforces.com/blog/entry/101398\n",
      "http://codeforces.comhttps://codeforces.com/blog/entry/103952\n",
      "http://codeforces.com/blog/entry/103892\n",
      "http://codeforces.com/contest/1693\n",
      "http://codeforces.com/contest/1694\n",
      "http://codeforces.com#\n",
      "http://codeforces.com#\n",
      "http://codeforces.com/profile/AmShZ\n",
      "http://codeforces.com/profile/AmShZ\n",
      "http://codeforces.com/blog/entry/103892#comments\n",
      "http://codeforces.com/blog/entry/103892#comments\n",
      "http://codeforces.com/blog/entry/103784\n",
      "http://codeforces.com/profile/MikeMirzayanov\n",
      "http://codeforces.comhttps://codeforces.com/edu/courses\n",
      "http://codeforces.comhttps://codeforces.com/userForm/7684f06b9b0a17e4\n",
      "http://codeforces.com/blog/entry/103784\n",
      "http://codeforces.com/search?query=edu\n",
      "http://codeforces.com/search?query=codeforces\n",
      "http://codeforces.com#\n",
      "http://codeforces.com#\n",
      "http://codeforces.com/profile/MikeMirzayanov\n",
      "http://codeforces.com/profile/MikeMirzayanov\n",
      "http://codeforces.com/blog/entry/103784#comments\n",
      "http://codeforces.com/blog/entry/103784#comments\n",
      "http://codeforces.com/blog/entry/103792\n",
      "http://codeforces.com/profile/SlavicG\n",
      "http://codeforces.com/profile/mesanu\n",
      "http://codeforces.com/profile/flamestorm\n",
      "http://codeforces.com/profile/MikeMirzayanov\n",
      "http://codeforces.com/contest/1692\n",
      "http://codeforces.comhttps://www.timeanddate.com/worldclock/fixedtime.html?day=14&month=6&year=2022&hour=17&min=35&sec=0&p1=166\n",
      "http://codeforces.com/profile/Neophiliatic\n",
      "http://codeforces.com/profile/Qualified\n",
      "http://codeforces.com/profile/sandry24\n",
      "http://codeforces.com/profile/_Anurag\n",
      "http://codeforces.com/profile/jampm\n",
      "http://codeforces.com/profile/TimDee\n",
      "http://codeforces.com/profile/Olympia\n",
      "http://codeforces.com/profile/MoonKnight.\n",
      "http://codeforces.com/profile/AlperenT\n",
      "http://codeforces.com/profile/BucketPotato\n",
      "http://codeforces.com/profile/_Vanilla_\n",
      "http://codeforces.comhttps://near.org/\n",
      "http://codeforces.comhttps://codeforces.com/blog/entry/101398\n",
      "http://codeforces.comhttps://codeforces.com/blog/entry/103883\n",
      "http://codeforces.com/blog/entry/103792\n",
      "http://codeforces.com/contest/1692\n",
      "http://codeforces.com#\n",
      "http://codeforces.com#\n",
      "http://codeforces.com/profile/SlavicG\n",
      "http://codeforces.com/profile/SlavicG\n",
      "http://codeforces.com/blog/entry/103792#comments\n",
      "http://codeforces.com/blog/entry/103792#comments\n",
      "http://codeforces.com/blog/entry/103746\n",
      "http://codeforces.com/profile/awoo\n",
      "http://codeforces.com/topic/104365/en6\n",
      "http://codeforces.comhttps://www.timeanddate.com/worldclock/fixedtime.html?day=12&month=6&year=2022&hour=17&min=35&sec=0&p1=166\n",
      "http://codeforces.com/contest/1697\n",
      "http://codeforces.comhttps://harbour.space/\n",
      "http://codeforces.comhttps://harbour.space/\n",
      "http://codeforces.com//codeforces.com/blog/entry/51208\n",
      "http://codeforces.com/profile/adedalic\n",
      "http://codeforces.com/profile/vovuh\n",
      "http://codeforces.com/profile/BledDest\n",
      "http://codeforces.com/profile/Neon\n",
      "http://codeforces.com/profile/MikeMirzayanov\n",
      "http://codeforces.comhttps://www.vodafone.com/\n",
      "http://codeforces.comhttps://harbour.space/\n",
      "http://codeforces.comhttps://harbour.space/scholarships/java-developer-apprenticeship-vodafone?utm_source=codeforces&utm_medium=partner&utm_campaign=bcn_b2b_voafone-apprenticeship\n",
      "http://codeforces.comhttps://codeforces.com/blog/entry/103835\n",
      "http://codeforces.com/blog/entry/103746\n",
      "http://codeforces.com/contest/1697\n",
      "http://codeforces.com#\n",
      "http://codeforces.com#\n",
      "http://codeforces.com/profile/awoo\n",
      "http://codeforces.com/profile/awoo\n",
      "http://codeforces.com/blog/entry/103746#comments\n",
      "http://codeforces.com/blog/entry/103746#comments\n",
      "http://codeforces.com/page/1\n",
      "http://codeforces.com/page/2\n",
      "http://codeforces.com/page/3\n",
      "http://codeforces.com/page/201\n",
      "http://codeforces.com/page/202\n",
      "http://codeforces.com/page/2\n",
      "http://codeforces.comhttp://codeforces.com/\n",
      "http://codeforces.com?mobile=true\n",
      "http://codeforces.com/privacy\n",
      "http://codeforces.comhttps://telegram.org/\n",
      "http://codeforces.comhttp://ifmo.ru/en/\n"
     ]
    }
   ],
   "source": [
    "for a in all_as :\n",
    "    print(url + a['href'])"
   ]
  },
  {
   "cell_type": "code",
   "execution_count": 1,
   "metadata": {},
   "outputs": [],
   "source": [
    "import mechanicalsoup\n",
    "\n",
    "# 1\n",
    "browser = mechanicalsoup.Browser()\n",
    "url = \"http://olympus.realpython.org/login\"\n",
    "login_page = browser.get(url)\n",
    "login_html = login_page.soup\n",
    "\n",
    "# 2\n",
    "form = login_html.select(\"form\")[0]\n",
    "form.select(\"input\")[0][\"value\"] = \"zeus\"\n",
    "form.select(\"input\")[1][\"value\"] = \"ThunderDude\"\n",
    "\n",
    "# 3\n",
    "profiles_page = browser.submit(form, login_page.url)"
   ]
  },
  {
   "cell_type": "code",
   "execution_count": 2,
   "metadata": {},
   "outputs": [
    {
     "data": {
      "text/plain": [
       "'http://olympus.realpython.org/profiles'"
      ]
     },
     "execution_count": 2,
     "metadata": {},
     "output_type": "execute_result"
    }
   ],
   "source": [
    "profiles_page.url"
   ]
  },
  {
   "cell_type": "code",
   "execution_count": 3,
   "metadata": {},
   "outputs": [
    {
     "data": {
      "text/plain": [
       "<form action=\"/login\" method=\"post\" name=\"login\">\n",
       "Username: <input name=\"user\" type=\"text\" value=\"zeus\"/><br/>\n",
       "Password: <input name=\"pwd\" type=\"password\" value=\"ThunderDude\"/><br/><br/>\n",
       "<input type=\"submit\" value=\"Submit\"/>\n",
       "</form>"
      ]
     },
     "execution_count": 3,
     "metadata": {},
     "output_type": "execute_result"
    }
   ],
   "source": [
    "form"
   ]
  },
  {
   "cell_type": "code",
   "execution_count": 4,
   "metadata": {},
   "outputs": [
    {
     "data": {
      "text/plain": [
       "'http://olympus.realpython.org/login'"
      ]
     },
     "execution_count": 4,
     "metadata": {},
     "output_type": "execute_result"
    }
   ],
   "source": [
    "url"
   ]
  },
  {
   "cell_type": "code",
   "execution_count": 7,
   "metadata": {},
   "outputs": [
    {
     "data": {
      "text/plain": [
       "<html>\n",
       "<head>\n",
       "<title>Log In</title>\n",
       "</head>\n",
       "<body bgcolor=\"yellow\">\n",
       "<center>\n",
       "<br/><br/>\n",
       "<h2>Please log in to access Mount Olympus:</h2>\n",
       "<br/><br/>\n",
       "<form action=\"/login\" method=\"post\" name=\"login\">\n",
       "Username: <input name=\"user\" type=\"text\"/><br/>\n",
       "Password: <input name=\"pwd\" type=\"password\"/><br/><br/>\n",
       "<input type=\"submit\" value=\"Submit\"/>\n",
       "</form>\n",
       "</center>\n",
       "</body>\n",
       "</html>"
      ]
     },
     "execution_count": 7,
     "metadata": {},
     "output_type": "execute_result"
    }
   ],
   "source": [
    "browser = mechanicalsoup.Browser()\n",
    "login_page = browser.get(url)\n",
    "login_html = login_page.soup\n",
    "login_html"
   ]
  },
  {
   "cell_type": "code",
   "execution_count": 23,
   "metadata": {},
   "outputs": [],
   "source": [
    "form = login_html.select(\"form\")[0]\n",
    "inputs = form.select(\"input\")"
   ]
  },
  {
   "cell_type": "code",
   "execution_count": 24,
   "metadata": {},
   "outputs": [
    {
     "data": {
      "text/plain": [
       "[<input name=\"user\" type=\"text\" value=\"zeus\"/>,\n",
       " <input name=\"pwd\" type=\"password\" value=\"ThunderDude\"/>,\n",
       " <input type=\"submit\" value=\"Submit\"/>]"
      ]
     },
     "execution_count": 24,
     "metadata": {},
     "output_type": "execute_result"
    }
   ],
   "source": [
    "inputs"
   ]
  },
  {
   "cell_type": "code",
   "execution_count": 25,
   "metadata": {},
   "outputs": [],
   "source": [
    "inputs[0][\"value\"] = \"zeus\"\n",
    "inputs[1][\"value\"] = \"ThunderDude\"\n",
    "profiles = browser.submit(login_html, url)\n"
   ]
  },
  {
   "cell_type": "code",
   "execution_count": 26,
   "metadata": {},
   "outputs": [
    {
     "data": {
      "text/plain": [
       "requests.models.Response"
      ]
     },
     "execution_count": 26,
     "metadata": {},
     "output_type": "execute_result"
    }
   ],
   "source": [
    "type(profiles)"
   ]
  },
  {
   "cell_type": "code",
   "execution_count": 19,
   "metadata": {},
   "outputs": [
    {
     "data": {
      "text/plain": [
       "'http://olympus.realpython.org/login?user=zeus&pwd=ThunderDude'"
      ]
     },
     "execution_count": 19,
     "metadata": {},
     "output_type": "execute_result"
    }
   ],
   "source": [
    "profiles.url"
   ]
  },
  {
   "cell_type": "code",
   "execution_count": 20,
   "metadata": {},
   "outputs": [
    {
     "data": {
      "text/plain": [
       "{'Connection': 'keep-alive', 'Content-Length': '363', 'Content-Type': 'text/html; charset=UTF-8', 'Date': 'Wed, 06 Jul 2022 12:58:33 GMT', 'Server': 'waitress', 'Via': '1.1 vegur'}"
      ]
     },
     "execution_count": 20,
     "metadata": {},
     "output_type": "execute_result"
    }
   ],
   "source": [
    "profiles.headers"
   ]
  },
  {
   "cell_type": "code",
   "execution_count": 27,
   "metadata": {},
   "outputs": [],
   "source": [
    "page = profiles.soup"
   ]
  },
  {
   "cell_type": "code",
   "execution_count": 28,
   "metadata": {},
   "outputs": [
    {
     "name": "stdout",
     "output_type": "stream",
     "text": [
      "\n",
      "\n",
      "Log In\n",
      "\n",
      "\n",
      "\n",
      "\n",
      "Please log in to access Mount Olympus:\n",
      "\n",
      "\n",
      "Username: \n",
      "Password: \n",
      "\n",
      "\n",
      "\n",
      "\n",
      "\n",
      "\n"
     ]
    }
   ],
   "source": [
    "print(page.getText())"
   ]
  },
  {
   "cell_type": "code",
   "execution_count": 29,
   "metadata": {},
   "outputs": [],
   "source": [
    "import mechanicalsoup\n",
    "\n",
    "# 1\n",
    "browser = mechanicalsoup.Browser()\n",
    "url = \"http://olympus.realpython.org/login\"\n",
    "login_page = browser.get(url)\n",
    "login_html = login_page.soup\n",
    "\n",
    "# 2\n",
    "form = login_html.select(\"form\")[0]\n",
    "form.select(\"input\")[0][\"value\"] = \"zeus\"\n",
    "form.select(\"input\")[1][\"value\"] = \"ThunderDude\"\n",
    "\n",
    "# 3\n",
    "profiles_page = browser.submit(form, login_page.url)"
   ]
  },
  {
   "cell_type": "code",
   "execution_count": 30,
   "metadata": {},
   "outputs": [],
   "source": [
    "dashboard = profiles_page.soup"
   ]
  },
  {
   "cell_type": "code",
   "execution_count": 31,
   "metadata": {},
   "outputs": [
    {
     "data": {
      "text/plain": [
       "'\\n\\nAll Profiles\\n\\n\\n\\n\\nAll Profiles:\\n\\n\\nAphrodite\\n\\nPoseidon\\n\\nDionysus\\n\\n\\n\\n\\n'"
      ]
     },
     "execution_count": 31,
     "metadata": {},
     "output_type": "execute_result"
    }
   ],
   "source": [
    "dashboard.getText()"
   ]
  },
  {
   "cell_type": "code",
   "execution_count": 32,
   "metadata": {},
   "outputs": [
    {
     "name": "stdout",
     "output_type": "stream",
     "text": [
      "\n",
      "\n",
      "All Profiles\n",
      "\n",
      "\n",
      "\n",
      "\n",
      "All Profiles:\n",
      "\n",
      "\n",
      "Aphrodite\n",
      "\n",
      "Poseidon\n",
      "\n",
      "Dionysus\n",
      "\n",
      "\n",
      "\n",
      "\n",
      "\n"
     ]
    }
   ],
   "source": [
    "print(dashboard.getText())"
   ]
  },
  {
   "cell_type": "code",
   "execution_count": 35,
   "metadata": {},
   "outputs": [
    {
     "data": {
      "text/plain": [
       "<title>All Profiles</title>"
      ]
     },
     "execution_count": 35,
     "metadata": {},
     "output_type": "execute_result"
    }
   ],
   "source": [
    "dashboard.title"
   ]
  },
  {
   "cell_type": "code",
   "execution_count": 45,
   "metadata": {},
   "outputs": [
    {
     "name": "stdout",
     "output_type": "stream",
     "text": [
      "The result of your dice roll is: 3\n",
      "The result of your dice roll is: 4\n",
      "The result of your dice roll is: 4\n",
      "The result of your dice roll is: 5\n",
      "The result of your dice roll is: 4\n"
     ]
    }
   ],
   "source": [
    "import mechanicalsoup\n",
    "import time\n",
    "\n",
    "browser = mechanicalsoup.Browser()\n",
    "for i in range(5):\n",
    "    page = browser.get(\"http://olympus.realpython.org/dice\")\n",
    "    tag = page.soup.select(\"#result\")[0]\n",
    "    result = tag.text\n",
    "    print(f\"The result of your dice roll is: {result}\")\n",
    "    time.sleep(5)"
   ]
  },
  {
   "cell_type": "code",
   "execution_count": null,
   "metadata": {},
   "outputs": [],
   "source": []
  }
 ],
 "metadata": {
  "kernelspec": {
   "display_name": "Python 3.9.6 64-bit",
   "language": "python",
   "name": "python3"
  },
  "language_info": {
   "codemirror_mode": {
    "name": "ipython",
    "version": 3
   },
   "file_extension": ".py",
   "mimetype": "text/x-python",
   "name": "python",
   "nbconvert_exporter": "python",
   "pygments_lexer": "ipython3",
   "version": "3.9.6"
  },
  "orig_nbformat": 4,
  "vscode": {
   "interpreter": {
    "hash": "aee8b7b246df8f9039afb4144a1f6fd8d2ca17a180786b69acc140d282b71a49"
   }
  }
 },
 "nbformat": 4,
 "nbformat_minor": 2
}
