{
 "cells": [
  {
   "cell_type": "code",
   "execution_count": 3,
   "metadata": {},
   "outputs": [
    {
     "data": {
      "text/plain": [
       "<Response [200]>"
      ]
     },
     "execution_count": 3,
     "metadata": {},
     "output_type": "execute_result"
    }
   ],
   "source": [
    "from mechanicalsoup import Browser\n",
    "url = \"https://www.amazon.in/gp/bestsellers/books/\"\n",
    "browser = Browser()\n",
    "page = browser.get(url)\n",
    "page"
   ]
  },
  {
   "cell_type": "code",
   "execution_count": 4,
   "metadata": {},
   "outputs": [],
   "source": [
    "soup = page.soup\n"
   ]
  },
  {
   "cell_type": "code",
   "execution_count": 5,
   "metadata": {},
   "outputs": [],
   "source": [
    "div_tag = soup.find_all(\"div\", {\"class\": \"a-link-normal\"})\n"
   ]
  },
  {
   "cell_type": "code",
   "execution_count": 18,
   "metadata": {},
   "outputs": [
    {
     "data": {
      "text/plain": [
       "[]"
      ]
     },
     "execution_count": 18,
     "metadata": {},
     "output_type": "execute_result"
    }
   ],
   "source": [
    "books = {}\n",
    "# ranks\n",
    "# titles\n",
    "# prices\n",
    "# reviews\n",
    "# authors\n"
   ]
  },
  {
   "cell_type": "code",
   "execution_count": 6,
   "metadata": {},
   "outputs": [],
   "source": [
    "authors = []\n",
    "titles = []\n",
    "for index, div in enumerate(div_tag):\n",
    "    if not index%2:\n",
    "        author = div_tag[index+1].getText()\n",
    "        title = div.getText()\n",
    "        authors.append(author)\n",
    "        titles.append(titles)"
   ]
  },
  {
   "cell_type": "code",
   "execution_count": 7,
   "metadata": {},
   "outputs": [],
   "source": [
    "div_ranks = soup.findAll(\"div\", {\"class\" : \"a-section zg-bdg-body zg-bdg-clr-body aok-float-left\"})\n",
    "ranks = [rank.getText() for rank in div_ranks]"
   ]
  },
  {
   "cell_type": "code",
   "execution_count": 26,
   "metadata": {},
   "outputs": [],
   "source": [
    "span_prices = soup.findAll(\"span\", {\"class\" : \"a-size-base a-color-price\"})\n",
    "prices = [price.getText() for price in span_prices]"
   ]
  },
  {
   "cell_type": "code",
   "execution_count": 22,
   "metadata": {},
   "outputs": [],
   "source": [
    "span_reviews = soup.findAll(\"span\", {\"class\" : \"a-icon-alt\"})\n",
    "reviews = [review.getText() for review in span_reviews]"
   ]
  },
  {
   "cell_type": "code",
   "execution_count": 74,
   "metadata": {},
   "outputs": [
    {
     "name": "stdout",
     "output_type": "stream",
     "text": [
      "<span class=\"a-size-base\"><span class=\"p13n-sc-price\">₹248.00</span></span>\n"
     ]
    }
   ],
   "source": [
    "print(soup.find(\"div\", attrs={\"id\" :\n",
    "    \"9390166268\"}, recursive=True).findAll(\"div\", recursive=True,\n",
    "    attrs={\"class\" : \"a-row\"})[-1].a.span.span)"
   ]
  },
  {
   "cell_type": "code",
   "execution_count": 76,
   "metadata": {},
   "outputs": [],
   "source": [
    "span_prices = soup.findAll(\"span\", {\"class\":\"p13n-sc-price\"})\n",
    "prices = [price.getText() for price in span_prices]"
   ]
  },
  {
   "cell_type": "code",
   "execution_count": 77,
   "metadata": {},
   "outputs": [
    {
     "data": {
      "text/plain": [
       "['₹505.00',\n",
       " '₹360.00',\n",
       " '₹248.00',\n",
       " '₹399.00',\n",
       " '₹110.00',\n",
       " '₹383.00',\n",
       " '₹389.70',\n",
       " '₹121.00',\n",
       " '₹615.00',\n",
       " '₹162.00',\n",
       " '₹180.00',\n",
       " '₹199.00',\n",
       " '₹99.00',\n",
       " '₹89.00',\n",
       " '₹503.00',\n",
       " '₹320.00',\n",
       " '₹188.00',\n",
       " '₹163.00',\n",
       " '₹309.00',\n",
       " '₹183.00',\n",
       " '₹139.30',\n",
       " '₹580.00',\n",
       " '₹154.00',\n",
       " '₹369.00',\n",
       " '₹469.00',\n",
       " '₹81.00',\n",
       " '₹295.00',\n",
       " '₹411.00',\n",
       " '₹81.00',\n",
       " '₹169.00',\n",
       " '₹248.00',\n",
       " '₹227.00',\n",
       " '₹335.00',\n",
       " '₹331.00',\n",
       " '₹237.00',\n",
       " '₹195.00',\n",
       " '₹155.00',\n",
       " '₹249.00',\n",
       " '₹380.00',\n",
       " '₹160.00',\n",
       " '₹499.00',\n",
       " '₹549.00',\n",
       " '₹159.00',\n",
       " '₹464.00',\n",
       " '₹94.00',\n",
       " '₹87.50',\n",
       " '₹265.00',\n",
       " '₹254.00',\n",
       " '₹190.51',\n",
       " '₹139.00']"
      ]
     },
     "execution_count": 77,
     "metadata": {},
     "output_type": "execute_result"
    }
   ],
   "source": [
    "prices"
   ]
  },
  {
   "cell_type": "code",
   "execution_count": null,
   "metadata": {},
   "outputs": [],
   "source": []
  }
 ],
 "metadata": {
  "kernelspec": {
   "display_name": "Python 3.9.6 64-bit",
   "language": "python",
   "name": "python3"
  },
  "language_info": {
   "codemirror_mode": {
    "name": "ipython",
    "version": 3
   },
   "file_extension": ".py",
   "mimetype": "text/x-python",
   "name": "python",
   "nbconvert_exporter": "python",
   "pygments_lexer": "ipython3",
   "version": "3.9.6"
  },
  "orig_nbformat": 4,
  "vscode": {
   "interpreter": {
    "hash": "aee8b7b246df8f9039afb4144a1f6fd8d2ca17a180786b69acc140d282b71a49"
   }
  }
 },
 "nbformat": 4,
 "nbformat_minor": 2
}
