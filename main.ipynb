{
 "cells": [
  {
   "cell_type": "code",
   "execution_count": 123,
   "metadata": {},
   "outputs": [],
   "source": [
    "from mechanicalsoup import Browser\n",
    "import pandas as pd\n",
    "\n",
    "url = \"https://www.amazon.in/gp/bestsellers/books/\"\n",
    "browser = Browser()\n",
    "# Request page\n",
    "page = browser.get(url)\n",
    "\n",
    "# Reterving the beautifulsoup object\n",
    "soup = page.soup\n",
    "\n",
    "# Getting ranks (bestsellers)\n",
    "div_ranks = soup.findAll(\"div\", {\"class\" : \"a-section zg-bdg-body zg-bdg-clr-body aok-float-left\"})\n",
    "ranks = [rank.getText() for rank in div_ranks]\n",
    "\n",
    "# Getting prices\n",
    "span_prices = soup.findAll(\"span\", {\"class\":\"p13n-sc-price\"})\n",
    "prices = [price.getText() for price in span_prices]\n",
    "\n",
    "span_reviews = soup.findAll(\"span\", {\"class\" : \"a-icon-alt\"})\n",
    "reviews = [review.getText() for review in span_reviews]\n",
    "\n",
    "# Getting titles & authors\n",
    "div_titles_authors = soup.findAll(\"div\", attrs={\"class\" : \"_cDEzb_p13n-sc-css-line-clamp-1_1Fn1y\"})\n",
    "authors = []\n",
    "titles = []\n",
    "\n",
    "for index, div in enumerate(div_titles_authors):\n",
    "    if not index%2:\n",
    "        titles.append(div.getText())\n",
    "    else:\n",
    "        authors.append(div.getText())\n",
    "        \n",
    "# Creat a dataframe for the books\n",
    "books = {\n",
    "    \"Ranks\" : ranks,\n",
    "    \"Titles\" : titles,\n",
    "    \"Authors\" : authors,\n",
    "    \"Reviwes\" : reviews,\n",
    "    \"Prices\" : prices\n",
    "}\n",
    "df = pd.DataFrame.from_dict(books, orient=\"index\")\n",
    "df = df.transpose()\n",
    "\n",
    "# Transform from dataframe to csv file\n",
    "print(\"Enter file name with csv extension\")\n",
    "user_input = input()\n",
    "df.to_csv(\"file.csv\", index=False)\n",
    "\n"
   ]
  }
 ],
 "metadata": {
  "kernelspec": {
   "display_name": "Python 3.9.6 64-bit",
   "language": "python",
   "name": "python3"
  },
  "language_info": {
   "codemirror_mode": {
    "name": "ipython",
    "version": 3
   },
   "file_extension": ".py",
   "mimetype": "text/x-python",
   "name": "python",
   "nbconvert_exporter": "python",
   "pygments_lexer": "ipython3",
   "version": "3.9.6"
  },
  "orig_nbformat": 4,
  "vscode": {
   "interpreter": {
    "hash": "aee8b7b246df8f9039afb4144a1f6fd8d2ca17a180786b69acc140d282b71a49"
   }
  }
 },
 "nbformat": 4,
 "nbformat_minor": 2
}
